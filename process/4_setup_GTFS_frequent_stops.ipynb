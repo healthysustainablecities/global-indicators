{
 "cells": [
  {
   "cell_type": "markdown",
   "metadata": {},
   "source": [
    "# Create frequent public transport stops analysis - Phoenix, Arizona\n"
   ]
  },
  {
   "cell_type": "markdown",
   "metadata": {},
   "source": [
    "This notebook describes a process to retain public transit stops points with frequent service using two methods.\n",
    "\n",
    "## Method 1: Stop headway analysis using maxi interdeparture time\n",
    "- identify stops with inter-departure time/headway less than or equal to 30 minutes within a specific time range;\n",
    "- modified based on the [headway function](https://github.com/UDST/urbanaccess/blob/9c0f64faf63bae6f5a73ae23409ca68b28113026/urbanaccess/gtfs/headways.py) for stop level analysis\n",
    "\n",
    "## Method 2: Stop headway analysis using average frequencies of departure\n",
    "\n",
    "- group by service date, then count the frequencies of departure for each stop\n",
    "- calculate the average headway during the timeframe over departure\n",
    "- approach taken by Carl Higgs (20200106) following [tidytransit](http://tidytransit.r-transit.org/articles/servicepatterns.html)\n",
    "\n"
   ]
  },
  {
   "cell_type": "markdown",
   "metadata": {},
   "source": [
    "### Notes:\n",
    "\n",
    "- Input data format, including which tables, which columns, which order and handling of nulls - you'll need to customise this for each city.  A handy guide to the format of GTFS fields is [here](https://developers.google.com/transit/gtfs/reference/#tripstxt).\n",
    "\n",
    "- GTFS feeds sourced in same season (?) and school term\n",
    "    - we have vastly different climates across our cities --- so should perhaps aim for Spring? if we chose arbitrary feeds, some in winter and some in summer, our different cities could have vastly different conditions (particularly the snowy ones)\n",
    "- Week days (Monday to Friday)\n",
    "    - Day time (7am to 7pm (peak hour: 7am to 9am); as travel during day is important for different segments of community)\n",
    " \n",
    "- We may need to consider details of how headway is operationalised (ie. spot checks do the results look reasonable, and if not how do we deal with it?  this is why I took the maximum headway of the two directions as it at the time seemed a simple and reasonable approach to recognise that a stop need only be frequently serviced in one direction - which is not literally interpreted as 'direction on the road', its do with the route itself.  There may be other methods to consider.)\n",
    "\n",
    "Previous working branch:\n",
    "\n",
    "https://github.com/shiqin-liu/global-indicators/blob/phoenix/process/07_create_frequent_public_transport.ipynb  \n",
    "https://github.com/shiqin-liu/global-indicators/blob/f86f4c2ca068a61f9f2621351f1ce9bbf4b04d88/process/07_create_public_transport_points.ipynb"
   ]
  },
  {
   "cell_type": "code",
   "execution_count": 214,
   "metadata": {},
   "outputs": [],
   "source": [
    "#conda install -c udst urbanaccess\n",
    "#For UrbanAccess installation instructions see: https://udst.github.io/urbanaccess/installation.html"
   ]
  },
  {
   "cell_type": "code",
   "execution_count": 3,
   "metadata": {},
   "outputs": [],
   "source": [
    "#conda install geopandas=0.6.3 -c conda-forge\n"
   ]
  },
  {
   "cell_type": "code",
   "execution_count": 219,
   "metadata": {},
   "outputs": [],
   "source": [
    "import pandas as pd\n",
    "import pandana as pdna\n",
    "import geopandas as gpd\n",
    "import os\n",
    "import time   \n",
    "import networkx as nx\n",
    "import osmnx as ox\n",
    "import numpy as np\n",
    "import matplotlib.pyplot as plt\n",
    "\n",
    "import calendar\n",
    "import datetime\n",
    "\n",
    "import urbanaccess as ua\n",
    "from urbanaccess.config import settings\n",
    "from urbanaccess.gtfsfeeds import feeds\n",
    "from urbanaccess import gtfsfeeds\n",
    "from urbanaccess.gtfs.gtfsfeeds_dataframe import gtfsfeeds_dfs\n",
    "from urbanaccess.network import ua_network, load_network\n",
    "\n",
    "from shapely.geometry import shape,Point, LineString, Polygon\n",
    "\n",
    "%matplotlib inline\n"
   ]
  },
  {
   "cell_type": "code",
   "execution_count": 5,
   "metadata": {},
   "outputs": [
    {
     "data": {
      "text/plain": [
       "'0.6.3'"
      ]
     },
     "execution_count": 5,
     "metadata": {},
     "output_type": "execute_result"
    }
   ],
   "source": [
    "gpd.__version__ # UrbanAccess required earlier version of geopandas\n"
   ]
  },
  {
   "cell_type": "code",
   "execution_count": 6,
   "metadata": {},
   "outputs": [],
   "source": [
    "# Pandana currently uses depreciated parameters in matplotlib, this hides the warning until its fixed\n",
    "import warnings\n",
    "import matplotlib.cbook\n",
    "warnings.filterwarnings(\"ignore\",category=matplotlib.cbook.mplDeprecation)\n"
   ]
  },
  {
   "cell_type": "code",
   "execution_count": 211,
   "metadata": {},
   "outputs": [],
   "source": [
    "# specified the folder path when GTFS date stores\n",
    "GTFS = {'phoenix': {'gtfs_folder' : 'data/Transport',\n",
    "                    'gtfs_url' : 'https://transitfeeds.com/p/valley-metro/68/20190705/download',\n",
    "                    'gtfs_provider' : 'Phx Valley metro',\n",
    "                    'gtfs_year' : '2019',\n",
    "                    # define month and day for \"representative period\" ie. not in school time\n",
    "                    'start_date_mmdd' : '20190403', \n",
    "                    'end_date_mmdd' : '20190418',\n",
    "                    # get bounding box from study region boundary shapefile\n",
    "                    # bounding box formatted as a 4 element tuple: (lng_max, lat_min, lng_min, lat_max)\n",
    "                    # you can generate a bounding box by going to http://boundingbox.klokantech.com/ and selecting the CSV format.\n",
    "                    'bbox' : (-113.3338,32.505,-111.0399,34.0481), \n",
    "                    # define modes for GTFS feed(s) as per agency_id codes in agency.txt below\n",
    "                    'modes' : {\n",
    "                        'rail':{'route_types': 0, \n",
    "                                'peak_hour' : ['07:00:00', '09:00:00'],\n",
    "                                'day_hour' : ['07:00:00', '19:00:00'],\n",
    "                                'intervals': 30},\n",
    "                        'bus' : {'route_types': 3,\n",
    "                                  'peak_hour' : ['07:00:00', '09:00:00'], \n",
    "                                  'day_hour' : ['07:00:00', '19:00:00'],\n",
    "                                  'intervals': 30}\n",
    "                    } \n",
    "                   }\n",
    "       }\n",
    "\n",
    "\n"
   ]
  },
  {
   "cell_type": "markdown",
   "metadata": {},
   "source": [
    "# Load GTFS data into an UrbanAccess transit data frame"
   ]
  },
  {
   "cell_type": "markdown",
   "metadata": {},
   "source": [
    "### Using UrbanAccess as source for:\n",
    "- The settings object\n",
    "- The feeds object and searching for GTFS feeds\n",
    "- Downloading GTFS data\n",
    "- Loading GTFS data into a UrbanAccess transit data object\n",
    "- conduct heaway analysis using maxi interdeparture time method\n"
   ]
  },
  {
   "cell_type": "markdown",
   "metadata": {},
   "source": [
    "Load the GTFS feeds (currently a series of text files stored on disk) into a combined network of Pandas DataFrames.\n",
    "\n",
    "- You can specify one feed or multiple feeds that are inside a root folder using the `gtfsfeed_path` parameter. If you want to aggregate multiple transit networks together, all the GTFS feeds you want to aggregate must be inside of a single root folder.\n",
    "- Turn on `validation` and set a bounding box with the `remove_stops_outsidebbox` parameter turned on to ensure all your GTFS feed data are within a specified area.\n"
   ]
  },
  {
   "cell_type": "code",
   "execution_count": 151,
   "metadata": {},
   "outputs": [
    {
     "name": "stdout",
     "output_type": "stream",
     "text": [
      "GTFS text file header whitespace check completed. Took 7.30 seconds\n",
      "--------------------------------\n",
      "Processing GTFS feed: gtfs\n",
      "The agency.txt or agency_id column was not found. The unique agency id: gtfs was generated using the name of the folder containing the GTFS feed text files.\n",
      "Unique agency id operation complete. Took 0.23 seconds\n",
      "Unique GTFS feed id operation complete. Took 0.01 seconds\n",
      "WARNING: gtfs GTFS feed stops: 1 of 7,887 (0.01 percent of total) record(s) are outside the bounding box coordinates\n",
      "Records: {}\n",
      "     stop_id  stop_code        stop_name  stop_desc   stop_lat    stop_lon  \\\n",
      "7800    9730    17112.0  2nd Av & 5th St        NaN  32.382707 -112.872186   \n",
      "\n",
      "      zone_id  stop_url  location_type parent_station unique_agency_id  \\\n",
      "7800      NaN       NaN              0            NaN             gtfs   \n",
      "\n",
      "     unique_feed_id  \n",
      "7800         gtfs_1  \n",
      "Removed identified stops that are outside of bounding box.\n",
      "gtfs GTFS feed stops: coordinates are in northwest hemisphere. Latitude = North (90); Longitude = West (-90).\n",
      "Appended route type to stops\n",
      "Appended route type to stop_times\n",
      "--------------------------------\n",
      "Added descriptive definitions to stops, routes, stop_times, and trips tables\n",
      "Successfully converted ['departure_time'] to seconds past midnight and appended new columns to stop_times. Took 9.59 seconds\n",
      "1 GTFS feed file(s) successfully read as dataframes:\n",
      "     gtfs\n",
      "     Took 31.83 seconds\n"
     ]
    }
   ],
   "source": [
    "loaded_feeds = ua.gtfs.load.gtfsfeed_to_df(gtfsfeed_path=gtfs_folder,\n",
    "                                           validation=True,\n",
    "                                           bbox=GTFS['phoenix']['bbox'],\n",
    "                                           remove_stops_outsidebbox=True,\n",
    "                                           append_definitions=True)\n"
   ]
  },
  {
   "cell_type": "markdown",
   "metadata": {},
   "source": [
    "### The transit data object"
   ]
  },
  {
   "cell_type": "markdown",
   "metadata": {},
   "source": [
    "The output is a global `urbanaccess_gtfs_df` object that can be accessed with the specified variable `loaded_feeds`. This object holds all the individual GTFS feed files aggregated together with each GTFS feed file type in separate Pandas DataFrames to represent all the loaded transit feeds in a metropolitan area. "
   ]
  },
  {
   "cell_type": "code",
   "execution_count": 152,
   "metadata": {},
   "outputs": [],
   "source": [
    "#loaded_feeds.stops.head()\n"
   ]
  },
  {
   "cell_type": "markdown",
   "metadata": {},
   "source": [
    "Quickly view the transit stop locations"
   ]
  },
  {
   "cell_type": "code",
   "execution_count": 153,
   "metadata": {},
   "outputs": [],
   "source": [
    "#loaded_feeds.stops.plot(kind='scatter', x='stop_lon', y='stop_lat', s=0.1)\n"
   ]
  },
  {
   "cell_type": "markdown",
   "metadata": {},
   "source": [
    "# Calculate stop level headways\n",
    "- Calculate headways for the AM Peak time period \n",
    "- the original UrbanAccess function calculates the stop and route level headway, it was revised to conduct only the stop level headway analysis.\n",
    "Check here for the original [function](https://github.com/UDST/urbanaccess/blob/9c0f64faf63bae6f5a73ae23409ca68b28113026/urbanaccess/gtfs/network.py#L192)"
   ]
  },
  {
   "cell_type": "markdown",
   "metadata": {},
   "source": [
    "## Select trips that run on weekdays "
   ]
  },
  {
   "cell_type": "code",
   "execution_count": 154,
   "metadata": {},
   "outputs": [
    {
     "name": "stdout",
     "output_type": "stream",
     "text": [
      "Using calendar to extract service_ids to select trips.\n",
      "26 service_ids were extracted from calendar\n",
      "15,882 trip(s) 29.36 percent of 54,102 total trip records were found in calendar for GTFS feed(s): ['gtfs']\n",
      "NOTE: If you expected more trips to have been extracted and your GTFS feed(s) have a calendar_dates file, consider utilizing the calendar_dates_lookup parameter in order to add additional trips based on information inside of calendar_dates. This should only be done if you know the corresponding GTFS feed is using calendar_dates instead of calendar to specify service_ids. When in doubt do not use the calendar_dates_lookup parameter.\n",
      "15,882 of 54,102 total trips were extracted representing calendar day: monday. Took 0.17 seconds\n",
      "Using calendar to extract service_ids to select trips.\n",
      "26 service_ids were extracted from calendar\n",
      "15,882 trip(s) 29.36 percent of 54,102 total trip records were found in calendar for GTFS feed(s): ['gtfs']\n",
      "NOTE: If you expected more trips to have been extracted and your GTFS feed(s) have a calendar_dates file, consider utilizing the calendar_dates_lookup parameter in order to add additional trips based on information inside of calendar_dates. This should only be done if you know the corresponding GTFS feed is using calendar_dates instead of calendar to specify service_ids. When in doubt do not use the calendar_dates_lookup parameter.\n",
      "15,882 of 54,102 total trips were extracted representing calendar day: monday. Took 0.10 seconds\n",
      "Using calendar to extract service_ids to select trips.\n",
      "26 service_ids were extracted from calendar\n",
      "15,882 trip(s) 29.36 percent of 54,102 total trip records were found in calendar for GTFS feed(s): ['gtfs']\n",
      "NOTE: If you expected more trips to have been extracted and your GTFS feed(s) have a calendar_dates file, consider utilizing the calendar_dates_lookup parameter in order to add additional trips based on information inside of calendar_dates. This should only be done if you know the corresponding GTFS feed is using calendar_dates instead of calendar to specify service_ids. When in doubt do not use the calendar_dates_lookup parameter.\n",
      "15,882 of 54,102 total trips were extracted representing calendar day: tuesday. Took 0.11 seconds\n",
      "Using calendar to extract service_ids to select trips.\n",
      "26 service_ids were extracted from calendar\n",
      "15,882 trip(s) 29.36 percent of 54,102 total trip records were found in calendar for GTFS feed(s): ['gtfs']\n",
      "NOTE: If you expected more trips to have been extracted and your GTFS feed(s) have a calendar_dates file, consider utilizing the calendar_dates_lookup parameter in order to add additional trips based on information inside of calendar_dates. This should only be done if you know the corresponding GTFS feed is using calendar_dates instead of calendar to specify service_ids. When in doubt do not use the calendar_dates_lookup parameter.\n",
      "15,882 of 54,102 total trips were extracted representing calendar day: wednesday. Took 0.11 seconds\n",
      "Using calendar to extract service_ids to select trips.\n",
      "26 service_ids were extracted from calendar\n",
      "15,882 trip(s) 29.36 percent of 54,102 total trip records were found in calendar for GTFS feed(s): ['gtfs']\n",
      "NOTE: If you expected more trips to have been extracted and your GTFS feed(s) have a calendar_dates file, consider utilizing the calendar_dates_lookup parameter in order to add additional trips based on information inside of calendar_dates. This should only be done if you know the corresponding GTFS feed is using calendar_dates instead of calendar to specify service_ids. When in doubt do not use the calendar_dates_lookup parameter.\n",
      "15,882 of 54,102 total trips were extracted representing calendar day: thursday. Took 0.09 seconds\n",
      "Using calendar to extract service_ids to select trips.\n",
      "24 service_ids were extracted from calendar\n",
      "16,533 trip(s) 30.56 percent of 54,102 total trip records were found in calendar for GTFS feed(s): ['gtfs']\n",
      "NOTE: If you expected more trips to have been extracted and your GTFS feed(s) have a calendar_dates file, consider utilizing the calendar_dates_lookup parameter in order to add additional trips based on information inside of calendar_dates. This should only be done if you know the corresponding GTFS feed is using calendar_dates instead of calendar to specify service_ids. When in doubt do not use the calendar_dates_lookup parameter.\n",
      "16,533 of 54,102 total trips were extracted representing calendar day: friday. Took 0.10 seconds\n"
     ]
    }
   ],
   "source": [
    "# this module was downloaded (unchanged) from \n",
    "# https://github.com/UDST/urbanaccess/blob/9c0f64faf63bae6f5a73ae23409ca68b28113026/urbanaccess/gtfs/network.py\n",
    "import ua_network\n",
    "\n",
    "input_trips_df = loaded_feeds.trips\n",
    "input_calendar_df = loaded_feeds.calendar\n",
    "input_calendar_dates_df = loaded_feeds.calendar_dates\n",
    "weekdays = ['monday', 'tuesday', 'wednesday', 'thursday', 'friday']\n",
    "# Select trips that run on specific day, here we are targeting normal weekdays, \n",
    "\n",
    "# select all trips that operate on monday based on service_id in calendar dates, unchanged based on the original functions\n",
    "calendar_selected_trips_df = ua_network._trip_schedule_selector(input_trips_df, input_calendar_df,\n",
    "                            input_calendar_dates_df, day='monday',\n",
    "                            calendar_dates_lookup=None)\n",
    "calendar_selected_trips_df = calendar_selected_trips_df.set_index(['service_id', 'route_id', 'trip_id', 'trip_headsign', 'direction_id', \n",
    "                   'block_id', 'shape_id','unique_agency_id', 'unique_feed_id'])\n",
    "\n",
    "# iterate through weekdays to select all trips during weekdays\n",
    "for day in weekdays:\n",
    "    df = ua_network._trip_schedule_selector(input_trips_df, input_calendar_df,\n",
    "                            input_calendar_dates_df, day=day,\n",
    "                            calendar_dates_lookup=None)\n",
    "    df = df.set_index(['service_id', 'route_id', 'trip_id', 'trip_headsign', 'direction_id', \n",
    "                   'block_id', 'shape_id','unique_agency_id', 'unique_feed_id'])\n",
    "    calendar_selected_trips_df = pd.merge(calendar_selected_trips_df, df, \n",
    "                                       left_index=True, right_index=True, how='outer')\n",
    "    \n",
    "calendar_selected_trips_df = calendar_selected_trips_df.reset_index()"
   ]
  },
  {
   "cell_type": "code",
   "execution_count": 155,
   "metadata": {},
   "outputs": [
    {
     "name": "stdout",
     "output_type": "stream",
     "text": [
      "There are no departure time records missing from trips following weekday schedule. There are no records to interpolate.\n"
     ]
    }
   ],
   "source": [
    "# Interpolate missing stop times using a linear interpolator between known stop times\n",
    "# unchanged based on the original function\n",
    "loaded_feeds.stop_times_int = ua_network._interpolate_stop_times(\n",
    "    stop_times_df=gtfsfeeds_dfs.stop_times,\n",
    "    calendar_selected_trips_df=calendar_selected_trips_df,\n",
    "    day='weekday')\n"
   ]
  },
  {
   "cell_type": "markdown",
   "metadata": {},
   "source": [
    "# Method 1: Stop headway analysis using maxi interdeparture time approach\n",
    "- identify stops with inter-departure time/headway less than or equal to 30 minutes within a specific time range;\n",
    "- modified based on the [headway function](https://github.com/UDST/urbanaccess/blob/9c0f64faf63bae6f5a73ae23409ca68b28113026/urbanaccess/gtfs/headways.py) for stop level analysis"
   ]
  },
  {
   "cell_type": "code",
   "execution_count": 156,
   "metadata": {},
   "outputs": [
    {
     "name": "stdout",
     "output_type": "stream",
     "text": [
      "Stop times from 07:00:00 to 09:00:00 successfully selected 183,758 records out of 1,583,177 total records (11.61 percent of total). Took 0.69 seconds\n",
      "Starting stop headway calculation for 7,707 stops...\n",
      "stop headway calculation complete. Took 21.07 seconds\n",
      "headway calculation complete. Took 23.23 seconds\n"
     ]
    },
    {
     "data": {
      "text/plain": [
       "<urbanaccess.gtfs.gtfsfeeds_dataframe.urbanaccess_gtfs_df at 0x7fb244b32dd8>"
      ]
     },
     "execution_count": 156,
     "metadata": {},
     "output_type": "execute_result"
    }
   ],
   "source": [
    "# this module was downloaded from \n",
    "# https://github.com/UDST/urbanaccess/blob/9c0f64faf63bae6f5a73ae23409ca68b28113026/urbanaccess/gtfs/headways.py\n",
    "# modified to conduct stop level analysis\n",
    "import ua_headways\n",
    "\n",
    "ua_headways.headways(loaded_feeds, GTFS['phoenix']['modes']['bus']['peak_hour'], \n",
    "                     route_type=GTFS['phoenix']['modes']['bus']['route_types'])\n"
   ]
  },
  {
   "cell_type": "code",
   "execution_count": 251,
   "metadata": {},
   "outputs": [
    {
     "data": {
      "text/plain": [
       "6948"
      ]
     },
     "execution_count": 251,
     "metadata": {},
     "output_type": "execute_result"
    }
   ],
   "source": [
    "# select maximum inter-departure time/headway less than or equal to 30 minutes\n",
    "stop_30_mins_bus_headway = loaded_feeds.headways[loaded_feeds.headways['max'] <= 30\n",
    "                                                ][['stop_id', 'max']].rename(columns={'max':'headway'})\n",
    "\n",
    "stop_30_mins_bus = pd.merge(stop_30_mins_bus_headway, loaded_feeds.stops, how='left', on='stop_id')\n",
    "len(stop_30_mins_bus)"
   ]
  },
  {
   "cell_type": "markdown",
   "metadata": {},
   "source": [
    "## Setup calender\n",
    "\n",
    "- select valid service id based on weekdays, and start and end date\n",
    "- this process is developed based on tidytransit [set_date_service_table](https://github.com/r-transit/tidytransit/blob/8a207aaf81482c268aa4bfc548c0697e24b5281c/R/time.R#L59) function"
   ]
  },
  {
   "cell_type": "code",
   "execution_count": 158,
   "metadata": {},
   "outputs": [],
   "source": [
    "def get_date_weekday_df(start, end):\n",
    "    \"\"\"create table to show date and weekday of all dates from start to end date\"\"\"\n",
    "    date_range = pd.date_range(start=start, end=end)\n",
    "    dates = pd.DataFrame(date_range, columns=['date'])\n",
    "    # Return the day of the week as an integer, where Monday is 0 and Sunday is 6.\n",
    "    weekdays = pd.DataFrame(date_range.weekday, columns=['weekday'])\n",
    "    date_weekday_df = dates.join(weekdays)\n",
    "    \n",
    "    # replace weekday numeric to str values\n",
    "    weekdays = ['monday', 'tuesday', 'wednesday', 'thursday', 'friday', 'saturday', 'sunday']\n",
    "    date_weekday_df = date_weekday_df.replace([0, 1, 2, 3, 4, 5, 6], weekdays)\n",
    "    return date_weekday_df\n",
    "\n",
    "# tabulate each date and weekday from the start to the end date in calendar  \n",
    "dates = get_date_weekday_df(start=str(min(loaded_feeds.calendar['start_date'])), \n",
    "                            end=str(max(loaded_feeds.calendar['end_date'])))\n",
    "\n"
   ]
  },
  {
   "cell_type": "code",
   "execution_count": 159,
   "metadata": {},
   "outputs": [],
   "source": [
    "# gather services by weekdays\n",
    "service_ids_weekdays = loaded_feeds.calendar[['service_id', 'start_date', 'end_date', \n",
    "                       'monday', 'tuesday', 'wednesday', 'thursday', 'friday', 'saturday', 'sunday'\n",
    "                      ]].set_index(['service_id', 'start_date', 'end_date'\n",
    "                                   ]).stack().to_frame().reset_index()\n",
    "\n",
    "service_ids_weekdays = service_ids_weekdays[(service_ids_weekdays[0] == 1)\n",
    "                                           ].rename(columns={'level_3':'weekday'}).drop(columns=[0])\n"
   ]
  },
  {
   "cell_type": "code",
   "execution_count": 167,
   "metadata": {},
   "outputs": [],
   "source": [
    "# create table to connect every date to corresponding services (all dates from earliest to latest)\n",
    "# set services to dates according to weekdays and start/end date\n",
    "date_service_df = pd.merge(dates, service_ids_weekdays, on='weekday')\n",
    "\n",
    "date_service_df['start_date'] = pd.to_datetime(date_service_df['start_date'], format='%Y%m%d')\n",
    "date_service_df['end_date'] = pd.to_datetime(date_service_df['end_date'], format='%Y%m%d')\n",
    "\n",
    "\n",
    "#filter valid service date within start and end date\n",
    "date_service_df = date_service_df[(date_service_df['date'] >= date_service_df['start_date']) \n",
    "                & (date_service_df['date'] <= date_service_df['end_date'])][['date', 'weekday', 'service_id']]\n"
   ]
  },
  {
   "cell_type": "code",
   "execution_count": 168,
   "metadata": {},
   "outputs": [
    {
     "data": {
      "text/plain": [
       "(1277, 10)"
      ]
     },
     "execution_count": 168,
     "metadata": {},
     "output_type": "execute_result"
    }
   ],
   "source": [
    "# add calendar_dates additions (1) if the additional dates are within the start and end date range\n",
    "addition_dates = loaded_feeds.calendar_dates[(loaded_feeds.calendar_dates['exception_type']==1)\n",
    "                                            ][['service_id', 'date']]\n",
    "\n",
    "min_start_datetime = pd.to_datetime(str(min(loaded_feeds.calendar['start_date'])))\n",
    "max_end_datetime = pd.to_datetime(str(max(loaded_feeds.calendar['end_date'])))\n",
    "addition_dates['date'] = pd.to_datetime(addition_dates['date'], format='%Y%m%d')\n",
    "        \n",
    "addition_dates['within_range'] = addition_dates['date'].apply(\n",
    "    lambda x: 1 if (x >= min_start_datetime\n",
    "                   ) & (x <= max_end_datetime) else 0)\n",
    "\n",
    "addition_dates = addition_dates[addition_dates['within_range'] == 1][['service_id', 'date']]\n",
    "date_service_df = pd.concat([addition_dates, date_service_df], ignore_index=True)\n",
    "\n",
    "len(date_service_df), len(addition_dates)\n"
   ]
  },
  {
   "cell_type": "code",
   "execution_count": 169,
   "metadata": {},
   "outputs": [],
   "source": [
    "# remove calendar_dates exceptions (2)\n",
    "exception_dates = loaded_feeds.calendar_dates[(loaded_feeds.calendar_dates['exception_type']==2)\n",
    "                                             ][['service_id', 'date']]\n",
    "\n",
    "date_service_exception_df = pd.merge(exception_dates.set_index(['service_id', 'date']\n",
    "                                  ), date_service_df.set_index(['service_id', 'date']), \n",
    "         left_index=True, right_index=True, indicator=True, how='outer').reset_index()\n",
    "\n",
    "date_service_df = date_service_exception_df[(date_service_exception_df['_merge']=='right_only')\n",
    "                                           ][['service_id', 'date', 'weekday']]"
   ]
  },
  {
   "cell_type": "code",
   "execution_count": 175,
   "metadata": {},
   "outputs": [
    {
     "data": {
      "text/plain": [
       "154"
      ]
     },
     "execution_count": 175,
     "metadata": {},
     "output_type": "execute_result"
    }
   ],
   "source": [
    "# limit within specified start and end date, within weekdays\n",
    "start_date_mmdd = pd.to_datetime(GTFS['phoenix']['start_date_mmdd'], format='%Y%m%d')\n",
    "end_date_mmdd = pd.to_datetime(GTFS['phoenix']['end_date_mmdd'], format='%Y%m%d')\n",
    "\n",
    "date_service_df = date_service_df[~((date_service_df['weekday']=='saturday') | \n",
    "                                    (date_service_df['weekday']=='sunday'))\n",
    "                                 ][(date_service_df['date'] >= start_date_mmdd) \n",
    "                                   & (date_service_df['date'] <= end_date_mmdd)]\n",
    "len(date_service_df)"
   ]
  },
  {
   "cell_type": "markdown",
   "metadata": {},
   "source": [
    "## Summarises the maximum number of days a stop_id could be a frequent stop by dow\n",
    "\n",
    "- Identify feeds start and end dates that that a stop is a 30-minute frequency stop  \n",
    "- Calculate the number of total normal weekdays during calendar start and end date  \n",
    "- Calculate the number of weekdays that the frequent stop is in operation  \n",
    "- Calculate the percentage of weekdays that each frequent stop is in operation, select those with 90% "
   ]
  },
  {
   "cell_type": "code",
   "execution_count": 199,
   "metadata": {},
   "outputs": [
    {
     "name": "stdout",
     "output_type": "stream",
     "text": [
      "Stop times from 07:00:00 to 09:00:00 successfully selected 183,758 records out of 1,583,177 total records (11.61 percent of total). Took 0.24 seconds\n"
     ]
    }
   ],
   "source": [
    "# filter valid service trips\n",
    "valid_service_trips = pd.merge(date_service_df, calendar_selected_trips_df, on='service_id', how='left')\n",
    "\n",
    "# filter stop times within the timerange\n",
    "selected_interpolated_stop_times_df = ua_network._time_selector(\n",
    "    df=loaded_feeds.stop_times_int, starttime=GTFS['phoenix']['modes']['bus']['peak_hour'][0],\n",
    "    endtime=GTFS['phoenix']['modes']['bus']['peak_hour'][1])\n",
    "\n",
    "# filter stops within valid service and time range \n",
    "stop_time_trips = pd.merge(valid_service_trips, selected_interpolated_stop_times_df, on='trip_id', how='inner')\n",
    "\n",
    "# filter within route types\n",
    "stop_time_trips = stop_time_trips[(stop_time_trips['route_type'] == GTFS['phoenix']['modes']['bus']['route_types'])]"
   ]
  },
  {
   "cell_type": "code",
   "execution_count": 200,
   "metadata": {},
   "outputs": [],
   "source": [
    "# merge to get stops within valid service and time range that are 30-min freqency stops\n",
    "stop_30_mins_bus_dates = pd.merge(stop_30_mins_bus[['stop_id', 'headway', 'stop_name', 'stop_lat', 'stop_lon', \n",
    "                                              'parent_station', 'route_type',]], \n",
    "                                  stop_time_trips[['service_id', 'date', 'weekday', 'trip_id', 'direction_id', 'stop_id'\n",
    "                                                  ]], on='stop_id', how='inner')"
   ]
  },
  {
   "cell_type": "code",
   "execution_count": 201,
   "metadata": {},
   "outputs": [
    {
     "data": {
      "text/plain": [
       "12"
      ]
     },
     "execution_count": 201,
     "metadata": {},
     "output_type": "execute_result"
    }
   ],
   "source": [
    "# Calculate the number of total normal weekdays during calendar start and end date\n",
    "tot_weekdays = get_date_weekday_df(start=start_date_mmdd, end=end_date_mmdd)\n",
    "weekdays_count = len(tot_weekdays[~((tot_weekdays['weekday']=='saturday') | \n",
    "                                    (tot_weekdays['weekday']=='sunday'))])\n",
    "weekdays_count"
   ]
  },
  {
   "cell_type": "code",
   "execution_count": 234,
   "metadata": {},
   "outputs": [],
   "source": [
    "# Calculate the number/pct of weekdays that the frequent stop is in operation\n",
    "stop_30_mins_bus_weekday_count = stop_30_mins_bus_dates[[\n",
    "    'stop_id', 'date', 'weekday']].drop_duplicates().groupby(['stop_id']).count()\n",
    "\n",
    "stop_30_mins_bus_weekday_count['stop_pct_weekday'] = stop_30_mins_bus_weekday_count['weekday'] / weekdays_count\n"
   ]
  },
  {
   "cell_type": "code",
   "execution_count": 252,
   "metadata": {},
   "outputs": [
    {
     "data": {
      "text/plain": [
       "6761"
      ]
     },
     "execution_count": 252,
     "metadata": {},
     "output_type": "execute_result"
    }
   ],
   "source": [
    "# Calculate the percentage of weekdays that each frequent stop is in operation, select those with 90%\n",
    "stop_30_mins_bus_weekday_count = stop_30_mins_bus_weekday_count[stop_30_mins_bus_weekday_count['stop_pct_weekday'] > 0.9].reset_index()\n",
    "stop_30_mins_bus_final_1 = pd.merge(stop_30_mins_bus_weekday_count, stop_30_mins_bus, on='stop_id', how='inner')\n",
    "\n",
    "len(stop_30_mins_bus_final_1)"
   ]
  },
  {
   "cell_type": "markdown",
   "metadata": {},
   "source": [
    "# Method 2: Stop headway analysis using average departure time within the timeframe\n",
    "\n",
    "- group by service date, then count the frequencies of departure for each stop\n",
    "- calculate the average headway during the timeframe over departure\n",
    "- approach taken by Carl Higgs (20200106) following [tidytransit](http://tidytransit.r-transit.org/articles/servicepatterns.html)"
   ]
  },
  {
   "cell_type": "code",
   "execution_count": 204,
   "metadata": {},
   "outputs": [],
   "source": [
    "# group by service date to get counts of departure of each stop of each direction\n",
    "stop_time_trips_departure = stop_time_trips[['direction_id', 'stop_id', 'date', 'service_id'\n",
    "                                  ]].groupby(['direction_id', 'stop_id', 'date']).agg(['count'])\n",
    "\n",
    "stop_time_trips_departure.columns = ['departure']"
   ]
  },
  {
   "cell_type": "code",
   "execution_count": 205,
   "metadata": {},
   "outputs": [],
   "source": [
    "# takes input start and end time range from 24 hour clock and converts\n",
    "# it to seconds past midnight\n",
    "# in order to select times that may be after midnight\n",
    "\n",
    "# convert string time components to integer and then calculate seconds\n",
    "# past midnight\n",
    "# convert starttime 24 hour to seconds past midnight\n",
    "start_h = int(str(modes['bus']['peak_hour'][0][0:2]))\n",
    "start_m = int(str(modes['bus']['peak_hour'][0][3:5]))\n",
    "start_s = int(str(modes['bus']['peak_hour'][0][6:8]))\n",
    "starttime_sec = (start_h * 60 * 60) + (start_m * 60) + start_s\n",
    "\n",
    "# convert endtime 24 hour to seconds past midnight\n",
    "end_h = int(str(modes['bus']['peak_hour'][1][0:2]))\n",
    "end_m = int(str(modes['bus']['peak_hour'][1][3:5]))\n",
    "end_s = int(str(modes['bus']['peak_hour'][1][6:8]))\n",
    "endtime_sec = (end_h * 60 * 60) + (end_m * 60) + end_s\n",
    "\n",
    "# count sec. and min. within the timerange\n",
    "t1_min = (endtime_sec - starttime_sec)/60"
   ]
  },
  {
   "cell_type": "code",
   "execution_count": 243,
   "metadata": {},
   "outputs": [],
   "source": [
    "#for each stop we average headway over dates \n",
    "  # We take the best (smallest) headway out of the two possible of the stop\n",
    "  # this is because many stops have frequent service in one direction \n",
    "  # and infrequent in the other (ie. inbound vs outbound differences)\n",
    "stop_time_trips_departure['headway'] = round(t1_min / stop_time_trips_departure['departure'])\n",
    "    \n",
    "stops_headway = stop_time_trips_departure.reset_index().groupby([\n",
    "    'stop_id', 'direction_id']).mean().groupby('stop_id').min()[['headway']]"
   ]
  },
  {
   "cell_type": "code",
   "execution_count": 253,
   "metadata": {},
   "outputs": [
    {
     "data": {
      "text/plain": [
       "6957"
      ]
     },
     "execution_count": 253,
     "metadata": {},
     "output_type": "execute_result"
    }
   ],
   "source": [
    "# select average departure headway less than or equal to 30 minutes\n",
    "\n",
    "stop_30_mins_bus_headway = stops_headway[stops_headway['headway'] <= 30]\n",
    "\n",
    "stop_30_mins_bus_final_2 = pd.merge(stop_30_mins_bus_headway, loaded_feeds.stops, how='left', on='stop_id')\n",
    "len(stop_30_mins_bus_final_2)"
   ]
  },
  {
   "cell_type": "markdown",
   "metadata": {},
   "source": [
    "# Plot bus stop and freqent bus stop"
   ]
  },
  {
   "cell_type": "code",
   "execution_count": 254,
   "metadata": {},
   "outputs": [
    {
     "data": {
      "image/png": "[encoded data removed]",
      "text/plain": [
       "<Figure size 720x720 with 1 Axes>"
      ]
     },
     "metadata": {
      "needs_background": "light"
     },
     "output_type": "display_data"
    }
   ],
   "source": [
    "# add stop id geometry\n",
    "# frequent bus stops using method #1\n",
    "stop_30_mins_bus_final_1['geometry'] = stop_30_mins_bus_final_1.apply(\n",
    "    lambda row: Point(row['stop_lon'], row['stop_lat']), axis=1)\n",
    "stop_30_mins_bus_final_1 = gpd.GeoDataFrame(stop_30_mins_bus_final_1)\n",
    "\n",
    "#frequent bus stops using method #2\n",
    "stop_30_mins_bus_final_2['geometry'] = stop_30_mins_bus_final_2.apply(\n",
    "    lambda row: Point(row['stop_lon'], row['stop_lat']), axis=1)\n",
    "stop_30_mins_bus_final_2 = gpd.GeoDataFrame(stop_30_mins_bus_final_2)\n",
    "\n",
    "loaded_feeds.stops['geometry'] = loaded_feeds.stops.apply(\n",
    "    lambda row: Point(row['stop_lon'], row['stop_lat']), axis=1)\n",
    "all_stops_gdf = gpd.GeoDataFrame(loaded_feeds.stops)\n",
    "\n",
    "# plot the stops\n",
    "fig, ax = plt.subplots(figsize=(10, 10))\n",
    "ax = all_stops_gdf.plot(ax=ax, color='green', marker='+', markersize=5, alpha=0.6)\n",
    "ax = stop_30_mins_bus_final_1.plot(ax=ax, color='blue', marker='o', markersize=5, alpha=0.8)\n",
    "ax = stop_30_mins_bus_final_2.plot(ax=ax, color='red', marker='o', markersize=3, alpha=0.5)\n",
    "ax.set_xlim(-112.4, -111.6)\n",
    "ax.set_ylim(33.2, 33.8)\n",
    "#ax.set_axis_off()\n",
    "\n",
    "plt.show()"
   ]
  },
  {
   "cell_type": "code",
   "execution_count": null,
   "metadata": {},
   "outputs": [],
   "source": []
  }
 ],
 "metadata": {
  "kernelspec": {
   "display_name": "Python (GlobalInd)",
   "language": "python",
   "name": "globalind"
  },
  "language_info": {
   "codemirror_mode": {
    "name": "ipython",
    "version": 3
   },
   "file_extension": ".py",
   "mimetype": "text/x-python",
   "name": "python",
   "nbconvert_exporter": "python",
   "pygments_lexer": "ipython3",
   "version": "3.6.10"
  }
 },
 "nbformat": 4,
 "nbformat_minor": 4
}
