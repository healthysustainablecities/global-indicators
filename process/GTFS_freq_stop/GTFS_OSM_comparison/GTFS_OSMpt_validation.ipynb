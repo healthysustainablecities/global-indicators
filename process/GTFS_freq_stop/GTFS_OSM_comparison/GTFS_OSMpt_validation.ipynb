{
 "cells": [
  {
   "cell_type": "markdown",
   "metadata": {},
   "source": [
    "# Validation of public tranport point"
   ]
  },
  {
   "cell_type": "code",
   "execution_count": 1,
   "metadata": {},
   "outputs": [],
   "source": [
    "import json\n",
    "import geopandas as gpd\n",
    "import matplotlib.pyplot as plt\n",
    "import os\n",
    "import pandas as pd\n",
    "from shapely.geometry import Polygon, LineString\n",
    "import osmnx as ox\n",
    "import numpy as np\n",
    "\n",
    "from destination_validation import *\n"
   ]
  },
  {
   "cell_type": "code",
   "execution_count": 2,
   "metadata": {},
   "outputs": [],
   "source": [
    "# configure script\n",
    "cities = ['seattle']\n",
    "dest_buffer_dists = [10, 50]\n",
    "indicators_filepath = 'indicators.csv'\n",
    "figure_filepath_city = 'fig/city_destination-comparison-{city}.png'\n",
    "figure_filepath_core = 'fig/core_destination-comparison-{city}.png'\n",
    "\n",
    "if not os.path.exists('fig/'):\n",
    "    os.makedirs('fig/')\n"
   ]
  },
  {
   "cell_type": "code",
   "execution_count": 4,
   "metadata": {},
   "outputs": [
    {
     "name": "stdout",
     "output_type": "stream",
     "text": [
      "2020-07-23 18:01:35 begin processing seattle\n",
      "2020-07-23 18:01:35 loaded study area boundary\n",
      "2020-07-23 18:01:39 loaded and filtered official destinations shapefile\n",
      "2020-07-23 18:01:39 loaded osm destinations shapefile\n",
      "2020-07-23 18:01:42 clipped osm/official destinations to study area boundary\n",
      "2020-07-23 18:01:44 figure saved to disk at \"fig/city_destination-comparison-seattle.png\"\n",
      "2020-07-23 18:01:48 created core for osm/official destinations\n",
      "2020-07-23 18:01:48 figure saved to disk at \"fig/core_destination-comparison-seattle.png\"\n",
      "2020-07-23 18:01:48 calculated destination counts\n",
      "2020-07-23 18:10:45 calculated destination overlaps for buffer 10\n",
      "2020-07-23 18:19:43 calculated destination overlaps for buffer 50\n",
      "2020-07-23 18:19:43 all done, saved indicators to disk at \"indicators.csv\"\n"
     ]
    }
   ],
   "source": [
    "# RUN THE SCRIPT\n",
    "indicators = {}\n",
    "for city in cities:\n",
    "    print(ox.ts(), f'begin processing {city}')\n",
    "    indicators[city] = {}\n",
    "    \n",
    "    # load this city's configs\n",
    "    with open(f'configuration/{city}.json') as f:\n",
    "        config = json.load(f)\n",
    "        # load destination gdfs from osm graph and official shapefile\n",
    "        study_area, geopackage, gdf_osm_destinations_clipped, gdf_official_destinations_clipped = load_data(config['osm_buffer_gpkg_path'],\n",
    "                                                                                                            config['osm_dest_name'],\n",
    "                                                                                                            config['official_dests_filepath'])\n",
    "        # plot map of study area + osm and official destinations, save to disk\n",
    "        fp_city = figure_filepath_city.format(city=city)\n",
    "        fig, ax = plot_city_data(gdf_osm_destinations_clipped, gdf_official_destinations_clipped, study_area, fp_city)\n",
    "\n",
    "        # calculate the convex hull to get city core\n",
    "        osm_core_dests = get_core_dests(geopackage, 0.1, study_area, gdf_osm_destinations_clipped)\n",
    "        official_core_dests = get_core_dests(geopackage, 0.1, study_area, gdf_official_destinations_clipped)\n",
    "        indicators[city]['osm_core_dests_count'] = len(osm_core_dests)\n",
    "        indicators[city]['official_core_dests_count'] = len(official_core_dests)\n",
    "        print(ox.ts(), 'created core for osm/official destinations')\n",
    "\n",
    "        # plot map of study area and core destinations\n",
    "        fp_core = figure_filepath_core.format(city=city)\n",
    "        fig, ax = plot_core_data(osm_core_dests, official_core_dests, gdf_osm_destinations_clipped, study_area, fp_core)\n",
    "\n",
    "        # calculate total destination count in each dataset, then add to indicators\n",
    "        osm_dest_count = len(gdf_osm_destinations_clipped)\n",
    "        official_dest_count = len(gdf_official_destinations_clipped)\n",
    "        indicators[city]['osm_dest_count'] = osm_dest_count\n",
    "        indicators[city]['official_dest_count'] = official_dest_count\n",
    "        print(ox.ts(), 'calculated destination counts')\n",
    "\n",
    "        # calculate the % overlaps of areas and lengths between osm and official destinations with different buffer distances\n",
    "        for dist in dest_buffer_dists:\n",
    "            osm_buff_prop, official_buff_prop = calculate_intersect(gdf_osm_destinations_clipped, gdf_official_destinations_clipped, dist)\n",
    "            indicators[city][f'osm_buff_overlap_count_{dist}'] = osm_buff_prop\n",
    "            indicators[city][f'official_buff_overlap_count_{dist}'] = official_buff_prop\n",
    "            print(ox.ts(), f'calculated destination overlaps for buffer {dist}')\n",
    "\n",
    "# turn indicators into a dataframe and save to disk\n",
    "df_ind = pd.DataFrame(indicators).T\n",
    "df_ind.to_csv(indicators_filepath, index=True, encoding='utf-8')\n",
    "print(ox.ts(), f'all done, saved indicators to disk at \"{indicators_filepath}\"')"
   ]
  },
  {
   "cell_type": "code",
   "execution_count": null,
   "metadata": {},
   "outputs": [],
   "source": []
  }
 ],
 "metadata": {
  "kernelspec": {
   "display_name": "Python (GlobalInd)",
   "language": "python",
   "name": "globalind"
  },
  "language_info": {
   "codemirror_mode": {
    "name": "ipython",
    "version": 3
   },
   "file_extension": ".py",
   "mimetype": "text/x-python",
   "name": "python",
   "nbconvert_exporter": "python",
   "pygments_lexer": "ipython3",
   "version": "3.7.6"
  }
 },
 "nbformat": 4,
 "nbformat_minor": 4
}
