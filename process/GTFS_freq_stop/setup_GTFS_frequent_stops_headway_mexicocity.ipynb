{
 "cells": [
  {
   "cell_type": "markdown",
   "metadata": {},
   "source": [
    "# Create frequent public transport stops analysis\n"
   ]
  },
  {
   "cell_type": "markdown",
   "metadata": {},
   "source": [
    "This notebook describes the example for a process to retain bus stops points with frequent services in a city\n",
    "\n",
    "### Method: Stop headway analysis using average frequencies of departure during day time\n",
    "\n",
    "- group by service date, then count the frequencies of departure for each stop\n",
    "- calculate the average headway during daytime over departure for normal weekdays\n",
    "- approach taken by Carl Higgs (20200106) following [tidytransit](http://tidytransit.r-transit.org/articles/servicepatterns.html)\n",
    "\n",
    "\n",
    "### Process:\n",
    "1. set up study region GTFS analysis parameters (gtfs_config.py)  \n",
    "2. load GTFS data into an UrbanAccess transit data frame\n",
    "    - stops will be loaded limited within study region buffered bounding box\n",
    "3. select a usual or representative one week during the feeds period that should fully capture the provided PT services in a city. \n",
    "    - a suitable \"usual\" week should contain at least 0.9 (default) of the total maximum of trips.\n",
    "4. Stop headway analysis using average departure time during usual weekday (Monday-Friday) daytime (7am-7pm)\n"
   ]
  },
  {
   "cell_type": "markdown",
   "metadata": {},
   "source": [
    "A handy guide to the format of GTFS fields is [here](https://developers.google.com/transit/gtfs/reference/#tripstxt)   \n",
    "Previous working branch using SQL:\n",
    "\n",
    "https://github.com/shiqin-liu/global-indicators/blob/phoenix/process/07_create_frequent_public_transport.ipynb  \n"
   ]
  },
  {
   "cell_type": "code",
   "execution_count": 115,
   "metadata": {},
   "outputs": [],
   "source": [
    "#For UrbanAccess installation instructions see: https://udst.github.io/urbanaccess/installation.html"
   ]
  },
  {
   "cell_type": "code",
   "execution_count": 116,
   "metadata": {},
   "outputs": [],
   "source": [
    "#conda install -c udst urbanaccess"
   ]
  },
  {
   "cell_type": "code",
   "execution_count": 117,
   "metadata": {},
   "outputs": [],
   "source": [
    "import pandas as pd\n",
    "import geopandas as gpd\n",
    "import os\n",
    "import time   \n",
    "import networkx as nx\n",
    "import osmnx as ox\n",
    "import numpy as np\n",
    "import matplotlib.pyplot as plt\n",
    "\n",
    "import calendar\n",
    "import datetime\n",
    "from datetime import timedelta\n",
    "\n",
    "\n",
    "import urbanaccess as ua\n",
    "\n",
    "# module with functions to load GTFS data into dataframes\n",
    "# revise based on origional load function from UrbanAccess, take out the add agency and route type features\n",
    "import ua_load \n",
    "\n",
    "# module with functions to calculate the average headway during the timeframe over departure\n",
    "import gtfs_headway_analysis as gha\n",
    "\n",
    "from shapely.geometry import shape,Point, LineString, Polygon\n",
    "\n",
    "%matplotlib inline\n"
   ]
  },
  {
   "cell_type": "code",
   "execution_count": 118,
   "metadata": {},
   "outputs": [],
   "source": [
    "import warnings\n",
    "import matplotlib.cbook\n",
    "warnings.filterwarnings(\"ignore\",category=matplotlib.cbook.mplDeprecation)\n"
   ]
  },
  {
   "cell_type": "code",
   "execution_count": 119,
   "metadata": {},
   "outputs": [],
   "source": [
    "# set up study region GTFS config\n",
    "# these gtfs parameters are defined in gtfs_config.py file\n",
    "GTFS = {'barcelona' : {'gtfs_filename':'gtfs_input_data/gtfs_spain_barcelona',\n",
    "                   'gtfs_provider' : 'TMB',\n",
    "                   'gtfs_year' : '2019',\n",
    "                   'start_date_mmdd' : '20191001',\n",
    "                   'end_date_mmdd' : '20201101',\n",
    "                   'bbox' : (2.0822008749659653, 41.31251726667463, 2.2342770048946647, 41.47251143638445),\n",
    "                   'crs': 'epsg:25831',\n",
    "                   'modes' : {\n",
    "                       'bus' : {'route_types': [3],\n",
    "                                 'day_time' : ['07:00:00', '19:00:00'],\n",
    "                                 'intervals': 30,\n",
    "                                'agency_id': None},\n",
    "                       'tram':{'route_types': [0],\n",
    "                               'day_time' : ['07:00:00', '19:00:00'],\n",
    "                               'intervals': 30,\n",
    "                               'agency_id': None},\n",
    "                       'train':{'route_types': [1,2],\n",
    "                               'day_time' : ['07:00:00', '19:00:00'],\n",
    "                               'intervals': 30,\n",
    "                               'agency_id': None},\n",
    "                       'ferry':{'route_types': [4],\n",
    "                               'day_time' : ['07:00:00', '19:00:00'],\n",
    "                               'intervals': 30,\n",
    "                               'agency_id': None}\n",
    "                   }\n",
    "                   }\n",
    "       }\n",
    "                    \n",
    "\n"
   ]
  },
  {
   "cell_type": "code",
   "execution_count": 120,
   "metadata": {},
   "outputs": [],
   "source": [
    "# set up a study region config to run in this notebook\n",
    "city = 'barcelona'\n",
    "\n",
    "gtfsfeed_path = GTFS['{}'.format(city)]['gtfs_filename']\n",
    "start_date=GTFS['{}'.format(city)]['start_date_mmdd']\n",
    "end_date=GTFS['{}'.format(city)]['end_date_mmdd']\n",
    "\n",
    "peak_hour = GTFS['{}'.format(city)]['modes']['bus']['day_time']\n",
    "start_hour = peak_hour[0]\n",
    "end_hour = peak_hour[1]\n",
    "bbox = GTFS['{}'.format(city)]['bbox']\n",
    "crs = GTFS['{}'.format(city)]['crs']\n",
    "\n",
    "\n",
    "headway_intervals = GTFS['{}'.format(city)]['modes']['bus']['intervals']\n",
    "route_types = GTFS['{}'.format(city)]['modes']['bus']['route_types']\n",
    "agency_ids = GTFS['{}'.format(city)]['modes']['bus']['agency_id']\n",
    "\n"
   ]
  },
  {
   "cell_type": "markdown",
   "metadata": {},
   "source": [
    "# Load GTFS data into an UrbanAccess transit data frame"
   ]
  },
  {
   "cell_type": "markdown",
   "metadata": {},
   "source": [
    "### Using UrbanAccess as source for:\n",
    "- The settings object\n",
    "- The feeds object and searching for GTFS feeds\n",
    "- Loading GTFS data into a UrbanAccess transit data object\n"
   ]
  },
  {
   "cell_type": "code",
   "execution_count": 121,
   "metadata": {},
   "outputs": [
    {
     "name": "stdout",
     "output_type": "stream",
     "text": [
      "--------------------------------\n",
      "GTFS text file header whitespace check completed. Took 2.00 seconds\n",
      "--------------------------------\n",
      "Processing GTFS feed: gtfs_spain_barcelona_AMB_20090617\n",
      "WARNING: gtfs_spain_barcelona_AMB_20090617 GTFS feed stops: 1,263 of 3,096 (40.79 percent of total) record(s) are outside the bounding box coordinates\n",
      "Records: {}\n",
      "     stop_id  stop_code                                        stop_name  \\\n",
      "0          1     109303                     Eusebi Güell - Joaquim Auger   \n",
      "2          4     109239                                 Faigs - Julivert   \n",
      "3          5     109244                                   Faigs - Freixe   \n",
      "6         11       3047  Aeroport - Terminal T2-A B (Sentit Terminal T1)   \n",
      "7         12     109198                             Terminal Aeroport T1   \n",
      "...      ...        ...                                              ...   \n",
      "3087    8677       9616                        Barcelona - Rius i Taulet   \n",
      "3088    8678     110521                 Rosa Leveroni - Teresa Claramunt   \n",
      "3090    8685     110523         Sant Martí de l'Erm - Av. Baix Llobregat   \n",
      "3093    8692     110527                Rda. Sant Ramon - Frederic Mompou   \n",
      "3095    8696     110531         J. Morales Garrido - H. G. S. Joan de D.   \n",
      "\n",
      "       stop_lat  stop_lon                                           stop_url  \n",
      "0     41.347398  2.031649  http://www.ambmobilitat.cat/Principales/DatosP...  \n",
      "2     41.285116  1.969491  http://www.ambmobilitat.cat/Principales/DatosP...  \n",
      "3     41.284101  1.968468  http://www.ambmobilitat.cat/Principales/DatosP...  \n",
      "6     41.302872  2.075775  http://www.ambmobilitat.cat/Principales/DatosP...  \n",
      "7     41.287767  2.073224  http://www.ambmobilitat.cat/Principales/DatosP...  \n",
      "...         ...       ...                                                ...  \n",
      "3087  41.366309  2.060132  http://www.ambmobilitat.cat/Principales/DatosP...  \n",
      "3088  41.386019  2.059819  http://www.ambmobilitat.cat/Principales/DatosP...  \n",
      "3090  41.372800  2.073891  http://www.ambmobilitat.cat/Principales/DatosP...  \n",
      "3093  41.354646  2.027009  http://www.ambmobilitat.cat/Principales/DatosP...  \n",
      "3095  41.354013  2.030610  http://www.ambmobilitat.cat/Principales/DatosP...  \n",
      "\n",
      "[1263 rows x 6 columns]\n",
      "Removed identified stops that are outside of bounding box.\n",
      "gtfs_spain_barcelona_AMB_20090617 GTFS feed stops: coordinates are in northeast hemisphere. Latitude = North (90); Longitude = East (90).\n",
      "Successfully converted ['departure_time'] to seconds past midnight and appended new columns to stop_times. Took 0.96 seconds\n",
      "1 GTFS feed file(s) successfully read as dataframes:\n",
      "     gtfs_spain_barcelona_AMB_20090617\n",
      "     Took 4.07 seconds\n"
     ]
    }
   ],
   "source": [
    "# revise based on origional function from UrbanAccess, take out the add agency and route type features\n",
    "# we may want to limit the stops within the study region bounding box for efficiency, as some feeds are regional system\n",
    "loaded_feeds = ua_load.gtfsfeed_to_df(gtfsfeed_path=gtfsfeed_path, validation=True, bbox=bbox, remove_stops_outsidebbox=True)"
   ]
  },
  {
   "cell_type": "markdown",
   "metadata": {},
   "source": [
    "### The transit data object"
   ]
  },
  {
   "cell_type": "markdown",
   "metadata": {},
   "source": [
    "The output is a global `urbanaccess_gtfs_df` object that can be accessed with the specified variable `loaded_feeds`. This object holds all the individual GTFS feed files aggregated together with each GTFS feed file type in separate Pandas DataFrames to represent all the loaded transit feeds in a metropolitan area. "
   ]
  },
  {
   "cell_type": "markdown",
   "metadata": {},
   "source": [
    "Quickly view the transit stop locations"
   ]
  },
  {
   "cell_type": "code",
   "execution_count": 134,
   "metadata": {},
   "outputs": [
    {
     "data": {
      "text/plain": [
       "1833"
      ]
     },
     "execution_count": 134,
     "metadata": {},
     "output_type": "execute_result"
    }
   ],
   "source": [
    "len(loaded_feeds.stops)"
   ]
  },
  {
   "cell_type": "code",
   "execution_count": 123,
   "metadata": {},
   "outputs": [
    {
     "data": {
      "text/plain": [
       "<matplotlib.axes._subplots.AxesSubplot at 0x7f3404c68e50>"
      ]
     },
     "execution_count": 123,
     "metadata": {},
     "output_type": "execute_result"
    },
    {
     "data": {
      "image/png": "[encoded data removed]",
      "text/plain": [
       "<Figure size 432x288 with 1 Axes>"
      ]
     },
     "metadata": {
      "needs_background": "light"
     },
     "output_type": "display_data"
    }
   ],
   "source": [
    "loaded_feeds.stops.plot(kind='scatter', x='stop_lon', y='stop_lat', s=0.1)\n"
   ]
  },
  {
   "cell_type": "markdown",
   "metadata": {},
   "source": [
    "# Select usual and representative one week for feeds analysis\n"
   ]
  },
  {
   "cell_type": "code",
   "execution_count": 124,
   "metadata": {},
   "outputs": [],
   "source": [
    "# drive usual week starting Monday\n",
    "# ensured that all weekdays have at least 90% of the maximum number of \n",
    "# daily PT trips during the time span of the week-long extract.\n",
    "daily_trip_counts = gha.get_trip_counts_per_day(loaded_feeds)\n"
   ]
  },
  {
   "cell_type": "code",
   "execution_count": 125,
   "metadata": {},
   "outputs": [
    {
     "data": {
      "text/plain": [
       "Timestamp('2020-03-23 00:00:00')"
      ]
     },
     "execution_count": 125,
     "metadata": {},
     "output_type": "execute_result"
    }
   ],
   "source": [
    "usual_start_date = gha.get_weekly_extract_start_date(daily_trip_counts, weekdays_at_least_of_max=0.9, start_date=start_date, end_date=end_date)\n",
    "usual_start_date\n"
   ]
  },
  {
   "cell_type": "code",
   "execution_count": 126,
   "metadata": {},
   "outputs": [],
   "source": [
    "daily_trip_counts = daily_trip_counts[(daily_trip_counts.date >= start_date) & (daily_trip_counts.date <= end_date)]"
   ]
  },
  {
   "cell_type": "code",
   "execution_count": 127,
   "metadata": {},
   "outputs": [
    {
     "data": {
      "image/png": "[encoded data removed]",
      "text/plain": [
       "<Figure size 720x360 with 1 Axes>"
      ]
     },
     "metadata": {
      "needs_background": "light"
     },
     "output_type": "display_data"
    }
   ],
   "source": [
    "# Create figure and plot space\n",
    "fig, ax = plt.subplots(figsize=(10, 5))\n",
    "\n",
    "# Add x-axis and y-axis\n",
    "ax.plot(daily_trip_counts.sort_values('date')['date'],\n",
    "        daily_trip_counts.sort_values('date')['trip_counts'],\n",
    "        color='purple')\n",
    "\n",
    "plt.axvline(x=usual_start_date, color='k', linestyle='--')\n",
    "\n",
    "# Set title and labels for axes\n",
    "ax.set(xlabel=\"Date\",\n",
    "       ylabel=\"daily trip counts\",\n",
    "       title=\"Daily trip counts\")\n",
    "\n",
    "plt.show()"
   ]
  },
  {
   "cell_type": "markdown",
   "metadata": {},
   "source": [
    "Reference: [Kujala et. al. (2018) A collection of public transport network data sets for 25 cities](https://www.nature.com/articles/sdata201889#Sec21)  \n",
    "\"The dates for the temporal filtering were chosen based on the number of daily trips of the included feeds. We ensured that there was a clear weekly periodicity in the feeds, so that working days have roughly the same number of trips and that weekends have a different schedule. Then we selected the dates for the week-long and day-long extracts, where we aimed for a typical work week without major exceptions in the PT operations, such as national holidays. To this end, we ensured that all weekdays have at least 90% of the maximum number of daily PT trips during the time span of the week-long extract.\""
   ]
  },
  {
   "cell_type": "markdown",
   "metadata": {},
   "source": [
    "# Stop headway analysis using average departure time dur weekday daytime\n",
    "\n",
    "- Identify feeds start and end dates that that a stop is a 30-minute frequency stop  \n",
    "- group by service date, then count the frequencies of departure for each stop\n",
    "- calculate the average headway during the timeframe over departure\n",
    "- approach taken by Carl Higgs (20200106) following [tidytransit](http://tidytransit.r-transit.org/articles/servicepatterns.html)"
   ]
  },
  {
   "cell_type": "code",
   "execution_count": 128,
   "metadata": {},
   "outputs": [],
   "source": [
    "# set the start and end date to usual week of weekday operation (Monday to Friday)\n",
    "start_date = usual_start_date\n",
    "end_date = usual_start_date + timedelta(4)"
   ]
  },
  {
   "cell_type": "code",
   "execution_count": 129,
   "metadata": {},
   "outputs": [],
   "source": [
    "dow=['monday','tuesday','wednesday','thursday','friday']"
   ]
  },
  {
   "cell_type": "code",
   "execution_count": 130,
   "metadata": {},
   "outputs": [
    {
     "name": "stderr",
     "output_type": "stream",
     "text": [
      "/opt/conda/lib/python3.7/site-packages/ipykernel_launcher.py:9: UserWarning: Boolean Series key will be reindexed to match DataFrame index.\n",
      "  if __name__ == '__main__':\n"
     ]
    }
   ],
   "source": [
    "date_service_df = gha.set_date_service_table(loaded_feeds)\n",
    "\n",
    "# limit within specified start and end date, and within weekdays\n",
    "start_date_mmdd = pd.to_datetime(start_date, format='%Y%m%d')\n",
    "end_date_mmdd = pd.to_datetime(end_date, format='%Y%m%d')\n",
    "\n",
    "date_service_df = date_service_df[date_service_df['weekday'].isin(dow)\n",
    "                                 ][(date_service_df['date'] >= start_date_mmdd)\n",
    "                                   & (date_service_df['date'] <= end_date_mmdd)].drop_duplicates()\n",
    "#print('     ', len(date_service_df), ' unique service dates are identified within',\n",
    "      #dow, ' from ', start_date, ' to ', end_date)\n",
    "\n",
    "\n",
    "trips_routes = pd.merge(loaded_feeds.trips, loaded_feeds.routes, on='route_id', how='left')\n",
    "# filter route trips based on valid services\n",
    "valid_service_ids = date_service_df.service_id.unique()\n",
    "trips_routes = trips_routes[trips_routes['service_id'].isin(valid_service_ids)]"
   ]
  },
  {
   "cell_type": "code",
   "execution_count": 131,
   "metadata": {},
   "outputs": [
    {
     "data": {
      "text/html": [
       "<div>\n",
       "<style scoped>\n",
       "    .dataframe tbody tr th:only-of-type {\n",
       "        vertical-align: middle;\n",
       "    }\n",
       "\n",
       "    .dataframe tbody tr th {\n",
       "        vertical-align: top;\n",
       "    }\n",
       "\n",
       "    .dataframe thead th {\n",
       "        text-align: right;\n",
       "    }\n",
       "</style>\n",
       "<table border=\"1\" class=\"dataframe\">\n",
       "  <thead>\n",
       "    <tr style=\"text-align: right;\">\n",
       "      <th></th>\n",
       "      <th>service_id</th>\n",
       "      <th>date</th>\n",
       "      <th>weekday</th>\n",
       "    </tr>\n",
       "  </thead>\n",
       "  <tbody>\n",
       "    <tr>\n",
       "      <th>405</th>\n",
       "      <td>128.4.586</td>\n",
       "      <td>2020-03-23</td>\n",
       "      <td>monday</td>\n",
       "    </tr>\n",
       "    <tr>\n",
       "      <th>406</th>\n",
       "      <td>128.4.586</td>\n",
       "      <td>2020-03-24</td>\n",
       "      <td>tuesday</td>\n",
       "    </tr>\n",
       "    <tr>\n",
       "      <th>407</th>\n",
       "      <td>128.4.586</td>\n",
       "      <td>2020-03-25</td>\n",
       "      <td>wednesday</td>\n",
       "    </tr>\n",
       "    <tr>\n",
       "      <th>408</th>\n",
       "      <td>128.4.586</td>\n",
       "      <td>2020-03-26</td>\n",
       "      <td>thursday</td>\n",
       "    </tr>\n",
       "    <tr>\n",
       "      <th>409</th>\n",
       "      <td>128.4.586</td>\n",
       "      <td>2020-03-27</td>\n",
       "      <td>friday</td>\n",
       "    </tr>\n",
       "    <tr>\n",
       "      <th>...</th>\n",
       "      <td>...</td>\n",
       "      <td>...</td>\n",
       "      <td>...</td>\n",
       "    </tr>\n",
       "    <tr>\n",
       "      <th>107864</th>\n",
       "      <td>432.1.809</td>\n",
       "      <td>2020-03-23</td>\n",
       "      <td>monday</td>\n",
       "    </tr>\n",
       "    <tr>\n",
       "      <th>107865</th>\n",
       "      <td>432.1.809</td>\n",
       "      <td>2020-03-24</td>\n",
       "      <td>tuesday</td>\n",
       "    </tr>\n",
       "    <tr>\n",
       "      <th>107866</th>\n",
       "      <td>432.1.809</td>\n",
       "      <td>2020-03-25</td>\n",
       "      <td>wednesday</td>\n",
       "    </tr>\n",
       "    <tr>\n",
       "      <th>107867</th>\n",
       "      <td>432.1.809</td>\n",
       "      <td>2020-03-26</td>\n",
       "      <td>thursday</td>\n",
       "    </tr>\n",
       "    <tr>\n",
       "      <th>107868</th>\n",
       "      <td>432.1.809</td>\n",
       "      <td>2020-03-27</td>\n",
       "      <td>friday</td>\n",
       "    </tr>\n",
       "  </tbody>\n",
       "</table>\n",
       "<p>579 rows × 3 columns</p>\n",
       "</div>"
      ],
      "text/plain": [
       "       service_id       date    weekday\n",
       "405     128.4.586 2020-03-23     monday\n",
       "406     128.4.586 2020-03-24    tuesday\n",
       "407     128.4.586 2020-03-25  wednesday\n",
       "408     128.4.586 2020-03-26   thursday\n",
       "409     128.4.586 2020-03-27     friday\n",
       "...           ...        ...        ...\n",
       "107864  432.1.809 2020-03-23     monday\n",
       "107865  432.1.809 2020-03-24    tuesday\n",
       "107866  432.1.809 2020-03-25  wednesday\n",
       "107867  432.1.809 2020-03-26   thursday\n",
       "107868  432.1.809 2020-03-27     friday\n",
       "\n",
       "[579 rows x 3 columns]"
      ]
     },
     "execution_count": 131,
     "metadata": {},
     "output_type": "execute_result"
    }
   ],
   "source": [
    "date_service_df = date_service_df[date_service_df['weekday'].isin(dow)\n",
    "                                 ][(date_service_df['date'] >= start_date_mmdd)\n",
    "                                   & (date_service_df['date'] <= end_date_mmdd)].drop_duplicates()\n",
    "date_service_df"
   ]
  },
  {
   "cell_type": "code",
   "execution_count": 132,
   "metadata": {},
   "outputs": [],
   "source": [
    "trips_routes = pd.merge(loaded_feeds.trips, loaded_feeds.routes, on='route_id', how='left')\n",
    "# filter route trips based on valid services\n",
    "valid_service_ids = date_service_df.service_id.unique()\n",
    "trips_routes = trips_routes[trips_routes['service_id'].isin(valid_service_ids)]"
   ]
  },
  {
   "cell_type": "code",
   "execution_count": 133,
   "metadata": {},
   "outputs": [
    {
     "data": {
      "text/html": [
       "<div>\n",
       "<style scoped>\n",
       "    .dataframe tbody tr th:only-of-type {\n",
       "        vertical-align: middle;\n",
       "    }\n",
       "\n",
       "    .dataframe tbody tr th {\n",
       "        vertical-align: top;\n",
       "    }\n",
       "\n",
       "    .dataframe thead th {\n",
       "        text-align: right;\n",
       "    }\n",
       "</style>\n",
       "<table border=\"1\" class=\"dataframe\">\n",
       "  <thead>\n",
       "    <tr style=\"text-align: right;\">\n",
       "      <th></th>\n",
       "      <th>route_id</th>\n",
       "      <th>service_id</th>\n",
       "      <th>trip_id</th>\n",
       "      <th>direction_id</th>\n",
       "      <th>shape_id</th>\n",
       "      <th>wheelchair_accessible</th>\n",
       "      <th>agency_id</th>\n",
       "      <th>route_short_name</th>\n",
       "      <th>route_long_name</th>\n",
       "      <th>route_desc</th>\n",
       "      <th>route_type</th>\n",
       "      <th>route_url</th>\n",
       "      <th>route_color</th>\n",
       "      <th>route_text_color</th>\n",
       "    </tr>\n",
       "  </thead>\n",
       "  <tbody>\n",
       "    <tr>\n",
       "      <th>99</th>\n",
       "      <td>128.4</td>\n",
       "      <td>128.4.586</td>\n",
       "      <td>128.4.1.3.0</td>\n",
       "      <td>0</td>\n",
       "      <td>128.4.1.3</td>\n",
       "      <td>1</td>\n",
       "      <td>1</td>\n",
       "      <td>86</td>\n",
       "      <td>Metro Horta - Albert Llanas</td>\n",
       "      <td>Información de ruta - www.ambmobilitat.cat</td>\n",
       "      <td>3</td>\n",
       "      <td>http://www.ambmobilitat.cat/Principales/TiraLi...</td>\n",
       "      <td>FFCC00</td>\n",
       "      <td>000000</td>\n",
       "    </tr>\n",
       "    <tr>\n",
       "      <th>100</th>\n",
       "      <td>128.4</td>\n",
       "      <td>128.4.586</td>\n",
       "      <td>128.4.1.3.1</td>\n",
       "      <td>0</td>\n",
       "      <td>128.4.1.3</td>\n",
       "      <td>1</td>\n",
       "      <td>1</td>\n",
       "      <td>86</td>\n",
       "      <td>Metro Horta - Albert Llanas</td>\n",
       "      <td>Información de ruta - www.ambmobilitat.cat</td>\n",
       "      <td>3</td>\n",
       "      <td>http://www.ambmobilitat.cat/Principales/TiraLi...</td>\n",
       "      <td>FFCC00</td>\n",
       "      <td>000000</td>\n",
       "    </tr>\n",
       "    <tr>\n",
       "      <th>101</th>\n",
       "      <td>128.4</td>\n",
       "      <td>128.4.586</td>\n",
       "      <td>128.4.1.3.2</td>\n",
       "      <td>0</td>\n",
       "      <td>128.4.1.3</td>\n",
       "      <td>1</td>\n",
       "      <td>1</td>\n",
       "      <td>86</td>\n",
       "      <td>Metro Horta - Albert Llanas</td>\n",
       "      <td>Información de ruta - www.ambmobilitat.cat</td>\n",
       "      <td>3</td>\n",
       "      <td>http://www.ambmobilitat.cat/Principales/TiraLi...</td>\n",
       "      <td>FFCC00</td>\n",
       "      <td>000000</td>\n",
       "    </tr>\n",
       "    <tr>\n",
       "      <th>102</th>\n",
       "      <td>128.4</td>\n",
       "      <td>128.4.586</td>\n",
       "      <td>128.4.1.3.3</td>\n",
       "      <td>0</td>\n",
       "      <td>128.4.1.3</td>\n",
       "      <td>1</td>\n",
       "      <td>1</td>\n",
       "      <td>86</td>\n",
       "      <td>Metro Horta - Albert Llanas</td>\n",
       "      <td>Información de ruta - www.ambmobilitat.cat</td>\n",
       "      <td>3</td>\n",
       "      <td>http://www.ambmobilitat.cat/Principales/TiraLi...</td>\n",
       "      <td>FFCC00</td>\n",
       "      <td>000000</td>\n",
       "    </tr>\n",
       "    <tr>\n",
       "      <th>103</th>\n",
       "      <td>128.4</td>\n",
       "      <td>128.4.586</td>\n",
       "      <td>128.4.1.3.4</td>\n",
       "      <td>0</td>\n",
       "      <td>128.4.1.3</td>\n",
       "      <td>1</td>\n",
       "      <td>1</td>\n",
       "      <td>86</td>\n",
       "      <td>Metro Horta - Albert Llanas</td>\n",
       "      <td>Información de ruta - www.ambmobilitat.cat</td>\n",
       "      <td>3</td>\n",
       "      <td>http://www.ambmobilitat.cat/Principales/TiraLi...</td>\n",
       "      <td>FFCC00</td>\n",
       "      <td>000000</td>\n",
       "    </tr>\n",
       "    <tr>\n",
       "      <th>...</th>\n",
       "      <td>...</td>\n",
       "      <td>...</td>\n",
       "      <td>...</td>\n",
       "      <td>...</td>\n",
       "      <td>...</td>\n",
       "      <td>...</td>\n",
       "      <td>...</td>\n",
       "      <td>...</td>\n",
       "      <td>...</td>\n",
       "      <td>...</td>\n",
       "      <td>...</td>\n",
       "      <td>...</td>\n",
       "      <td>...</td>\n",
       "      <td>...</td>\n",
       "    </tr>\n",
       "    <tr>\n",
       "      <th>20545</th>\n",
       "      <td>395.1</td>\n",
       "      <td>395.1.44</td>\n",
       "      <td>395.1.2.1.16</td>\n",
       "      <td>1</td>\n",
       "      <td>395.1.2.1</td>\n",
       "      <td>1</td>\n",
       "      <td>44</td>\n",
       "      <td>N28</td>\n",
       "      <td>Collblanc - Pl. Catalunya - Port Olímpic</td>\n",
       "      <td>Información de ruta - www.ambmobilitat.cat</td>\n",
       "      <td>3</td>\n",
       "      <td>http://www.ambmobilitat.cat/Principales/TiraLi...</td>\n",
       "      <td>3366CC</td>\n",
       "      <td>FFFFFF</td>\n",
       "    </tr>\n",
       "    <tr>\n",
       "      <th>20546</th>\n",
       "      <td>395.1</td>\n",
       "      <td>395.1.44</td>\n",
       "      <td>395.1.2.1.17</td>\n",
       "      <td>1</td>\n",
       "      <td>395.1.2.1</td>\n",
       "      <td>1</td>\n",
       "      <td>44</td>\n",
       "      <td>N28</td>\n",
       "      <td>Collblanc - Pl. Catalunya - Port Olímpic</td>\n",
       "      <td>Información de ruta - www.ambmobilitat.cat</td>\n",
       "      <td>3</td>\n",
       "      <td>http://www.ambmobilitat.cat/Principales/TiraLi...</td>\n",
       "      <td>3366CC</td>\n",
       "      <td>FFFFFF</td>\n",
       "    </tr>\n",
       "    <tr>\n",
       "      <th>20547</th>\n",
       "      <td>395.1</td>\n",
       "      <td>395.1.44</td>\n",
       "      <td>395.1.2.1.18</td>\n",
       "      <td>1</td>\n",
       "      <td>395.1.2.1</td>\n",
       "      <td>1</td>\n",
       "      <td>44</td>\n",
       "      <td>N28</td>\n",
       "      <td>Collblanc - Pl. Catalunya - Port Olímpic</td>\n",
       "      <td>Información de ruta - www.ambmobilitat.cat</td>\n",
       "      <td>3</td>\n",
       "      <td>http://www.ambmobilitat.cat/Principales/TiraLi...</td>\n",
       "      <td>3366CC</td>\n",
       "      <td>FFFFFF</td>\n",
       "    </tr>\n",
       "    <tr>\n",
       "      <th>20548</th>\n",
       "      <td>395.1</td>\n",
       "      <td>395.1.44</td>\n",
       "      <td>395.1.2.1.19</td>\n",
       "      <td>1</td>\n",
       "      <td>395.1.2.1</td>\n",
       "      <td>1</td>\n",
       "      <td>44</td>\n",
       "      <td>N28</td>\n",
       "      <td>Collblanc - Pl. Catalunya - Port Olímpic</td>\n",
       "      <td>Información de ruta - www.ambmobilitat.cat</td>\n",
       "      <td>3</td>\n",
       "      <td>http://www.ambmobilitat.cat/Principales/TiraLi...</td>\n",
       "      <td>3366CC</td>\n",
       "      <td>FFFFFF</td>\n",
       "    </tr>\n",
       "    <tr>\n",
       "      <th>20549</th>\n",
       "      <td>395.1</td>\n",
       "      <td>395.1.44</td>\n",
       "      <td>395.1.2.1.20</td>\n",
       "      <td>1</td>\n",
       "      <td>395.1.2.1</td>\n",
       "      <td>1</td>\n",
       "      <td>44</td>\n",
       "      <td>N28</td>\n",
       "      <td>Collblanc - Pl. Catalunya - Port Olímpic</td>\n",
       "      <td>Información de ruta - www.ambmobilitat.cat</td>\n",
       "      <td>3</td>\n",
       "      <td>http://www.ambmobilitat.cat/Principales/TiraLi...</td>\n",
       "      <td>3366CC</td>\n",
       "      <td>FFFFFF</td>\n",
       "    </tr>\n",
       "  </tbody>\n",
       "</table>\n",
       "<p>10553 rows × 14 columns</p>\n",
       "</div>"
      ],
      "text/plain": [
       "      route_id service_id       trip_id  direction_id   shape_id  \\\n",
       "99       128.4  128.4.586   128.4.1.3.0             0  128.4.1.3   \n",
       "100      128.4  128.4.586   128.4.1.3.1             0  128.4.1.3   \n",
       "101      128.4  128.4.586   128.4.1.3.2             0  128.4.1.3   \n",
       "102      128.4  128.4.586   128.4.1.3.3             0  128.4.1.3   \n",
       "103      128.4  128.4.586   128.4.1.3.4             0  128.4.1.3   \n",
       "...        ...        ...           ...           ...        ...   \n",
       "20545    395.1   395.1.44  395.1.2.1.16             1  395.1.2.1   \n",
       "20546    395.1   395.1.44  395.1.2.1.17             1  395.1.2.1   \n",
       "20547    395.1   395.1.44  395.1.2.1.18             1  395.1.2.1   \n",
       "20548    395.1   395.1.44  395.1.2.1.19             1  395.1.2.1   \n",
       "20549    395.1   395.1.44  395.1.2.1.20             1  395.1.2.1   \n",
       "\n",
       "       wheelchair_accessible  agency_id route_short_name  \\\n",
       "99                         1          1               86   \n",
       "100                        1          1               86   \n",
       "101                        1          1               86   \n",
       "102                        1          1               86   \n",
       "103                        1          1               86   \n",
       "...                      ...        ...              ...   \n",
       "20545                      1         44              N28   \n",
       "20546                      1         44              N28   \n",
       "20547                      1         44              N28   \n",
       "20548                      1         44              N28   \n",
       "20549                      1         44              N28   \n",
       "\n",
       "                                route_long_name  \\\n",
       "99                  Metro Horta - Albert Llanas   \n",
       "100                 Metro Horta - Albert Llanas   \n",
       "101                 Metro Horta - Albert Llanas   \n",
       "102                 Metro Horta - Albert Llanas   \n",
       "103                 Metro Horta - Albert Llanas   \n",
       "...                                         ...   \n",
       "20545  Collblanc - Pl. Catalunya - Port Olímpic   \n",
       "20546  Collblanc - Pl. Catalunya - Port Olímpic   \n",
       "20547  Collblanc - Pl. Catalunya - Port Olímpic   \n",
       "20548  Collblanc - Pl. Catalunya - Port Olímpic   \n",
       "20549  Collblanc - Pl. Catalunya - Port Olímpic   \n",
       "\n",
       "                                       route_desc  route_type  \\\n",
       "99     Información de ruta - www.ambmobilitat.cat           3   \n",
       "100    Información de ruta - www.ambmobilitat.cat           3   \n",
       "101    Información de ruta - www.ambmobilitat.cat           3   \n",
       "102    Información de ruta - www.ambmobilitat.cat           3   \n",
       "103    Información de ruta - www.ambmobilitat.cat           3   \n",
       "...                                           ...         ...   \n",
       "20545  Información de ruta - www.ambmobilitat.cat           3   \n",
       "20546  Información de ruta - www.ambmobilitat.cat           3   \n",
       "20547  Información de ruta - www.ambmobilitat.cat           3   \n",
       "20548  Información de ruta - www.ambmobilitat.cat           3   \n",
       "20549  Información de ruta - www.ambmobilitat.cat           3   \n",
       "\n",
       "                                               route_url route_color  \\\n",
       "99     http://www.ambmobilitat.cat/Principales/TiraLi...      FFCC00   \n",
       "100    http://www.ambmobilitat.cat/Principales/TiraLi...      FFCC00   \n",
       "101    http://www.ambmobilitat.cat/Principales/TiraLi...      FFCC00   \n",
       "102    http://www.ambmobilitat.cat/Principales/TiraLi...      FFCC00   \n",
       "103    http://www.ambmobilitat.cat/Principales/TiraLi...      FFCC00   \n",
       "...                                                  ...         ...   \n",
       "20545  http://www.ambmobilitat.cat/Principales/TiraLi...      3366CC   \n",
       "20546  http://www.ambmobilitat.cat/Principales/TiraLi...      3366CC   \n",
       "20547  http://www.ambmobilitat.cat/Principales/TiraLi...      3366CC   \n",
       "20548  http://www.ambmobilitat.cat/Principales/TiraLi...      3366CC   \n",
       "20549  http://www.ambmobilitat.cat/Principales/TiraLi...      3366CC   \n",
       "\n",
       "      route_text_color  \n",
       "99              000000  \n",
       "100             000000  \n",
       "101             000000  \n",
       "102             000000  \n",
       "103             000000  \n",
       "...                ...  \n",
       "20545           FFFFFF  \n",
       "20546           FFFFFF  \n",
       "20547           FFFFFF  \n",
       "20548           FFFFFF  \n",
       "20549           FFFFFF  \n",
       "\n",
       "[10553 rows x 14 columns]"
      ]
     },
     "execution_count": 133,
     "metadata": {},
     "output_type": "execute_result"
    }
   ],
   "source": [
    "trips_routes"
   ]
  },
  {
   "cell_type": "code",
   "execution_count": 83,
   "metadata": {},
   "outputs": [],
   "source": [
    "# filter trips within route types and agency id\n",
    "if (route_types != None) & (agency_ids == None):\n",
    "    trips_routes = trips_routes[(trips_routes['route_type'].isin(route_types))]\n",
    "    date_service_df = date_service_df[date_service_df['service_id'].isin(trips_routes.service_id.unique())]\n",
    "elif (route_types != None) & (agency_ids != None):\n",
    "    trips_routes = trips_routes[(trips_routes['agency_id'].isin(agency_ids)) & (trips_routes['route_type'].isin(route_types))]\n",
    "    date_service_df = date_service_df[date_service_df['service_id'].isin(trips_routes.service_id.unique())]\n",
    "elif (route_types == None) & (agency_ids != None):\n",
    "    trips_routes = trips_routes[(trips_routes['agency_id'].isin(agency_ids))]\n",
    "    date_service_df = date_service_df[date_service_df['service_id'].isin(trips_routes.service_id.unique())]\n"
   ]
  },
  {
   "cell_type": "code",
   "execution_count": 85,
   "metadata": {},
   "outputs": [
    {
     "data": {
      "text/html": [
       "<div>\n",
       "<style scoped>\n",
       "    .dataframe tbody tr th:only-of-type {\n",
       "        vertical-align: middle;\n",
       "    }\n",
       "\n",
       "    .dataframe tbody tr th {\n",
       "        vertical-align: top;\n",
       "    }\n",
       "\n",
       "    .dataframe thead th {\n",
       "        text-align: right;\n",
       "    }\n",
       "</style>\n",
       "<table border=\"1\" class=\"dataframe\">\n",
       "  <thead>\n",
       "    <tr style=\"text-align: right;\">\n",
       "      <th></th>\n",
       "      <th>service_id</th>\n",
       "      <th>date</th>\n",
       "      <th>weekday</th>\n",
       "    </tr>\n",
       "  </thead>\n",
       "  <tbody>\n",
       "  </tbody>\n",
       "</table>\n",
       "</div>"
      ],
      "text/plain": [
       "Empty DataFrame\n",
       "Columns: [service_id, date, weekday]\n",
       "Index: []"
      ]
     },
     "execution_count": 85,
     "metadata": {},
     "output_type": "execute_result"
    }
   ],
   "source": [
    "date_service_df"
   ]
  },
  {
   "cell_type": "code",
   "execution_count": 49,
   "metadata": {},
   "outputs": [
    {
     "name": "stdout",
     "output_type": "stream",
     "text": [
      "     Zero trip is found within the specified start and end hours\n",
      "     Zero stop is found within the specified timerange\n"
     ]
    },
    {
     "name": "stderr",
     "output_type": "stream",
     "text": [
      "/home/jovyan/work/Documents/GitHub/global-indicators/process/GTFS_freq_stop/gtfs_headway_analysis.py:294: UserWarning: Boolean Series key will be reindexed to match DataFrame index.\n",
      "  & (date_service_df['date'] <= end_date_mmdd)].drop_duplicates()\n"
     ]
    }
   ],
   "source": [
    "stops_headway = gha.get_hlc_stop_frequency(loaded_feeds, start_hour, end_hour, start_date, \n",
    "                           end_date, route_types, agency_ids, \n",
    "                           dow=['monday','tuesday','wednesday','thursday','friday'])"
   ]
  },
  {
   "cell_type": "code",
   "execution_count": null,
   "metadata": {},
   "outputs": [],
   "source": [
    "# select average departure headway less than or equal to maxi headway frequency intervals\n",
    "stop_30_mins_headway = stops_headway[stops_headway['headway'] <= 20]\n",
    "\n",
    "# get spatial features for freqent stops\n",
    "stop_30_mins_final = pd.merge(stop_30_mins_headway, loaded_feeds.stops, how='left', on='stop_id')\n",
    "\n",
    "# add stop id geometry\n",
    "stop_30_mins_final['geometry'] = stop_30_mins_final.apply(\n",
    "    lambda row: Point(row['stop_lon'], row['stop_lat']), axis=1)\n",
    "stop_30_mins_final = gpd.GeoDataFrame(stop_30_mins_final)"
   ]
  },
  {
   "cell_type": "code",
   "execution_count": 39,
   "metadata": {},
   "outputs": [
    {
     "data": {
      "text/plain": [
       "2824"
      ]
     },
     "execution_count": 39,
     "metadata": {},
     "output_type": "execute_result"
    }
   ],
   "source": [
    "len(stop_30_mins_final)"
   ]
  },
  {
   "cell_type": "markdown",
   "metadata": {},
   "source": [
    "# Plot all PT stop and freqent PT bus stops"
   ]
  },
  {
   "cell_type": "code",
   "execution_count": 43,
   "metadata": {},
   "outputs": [],
   "source": [
    "# get the study region boundary gdf\n",
    "city = 'seattle'\n",
    "region = 'us'\n",
    "geopackagePath = '../data/input/{city}_{region}_2019_1600m_buffer.gpkg'.format(\n",
    "        city=city, region=region)\n",
    "\n",
    "# load shapefile and project to latlong for plotting with PT points\n",
    "shape = gpd.GeoDataFrame.from_file(geopackagePath, \n",
    "              layer='urban_study_region')\n",
    "shape_proj = ox.projection.project_gdf(shape, to_crs=None, to_latlong=True)\n"
   ]
  },
  {
   "cell_type": "code",
   "execution_count": 44,
   "metadata": {},
   "outputs": [
    {
     "data": {
      "image/png": "[encoded data removed]",
      "text/plain": [
       "<Figure size 720x720 with 1 Axes>"
      ]
     },
     "metadata": {
      "needs_background": "light"
     },
     "output_type": "display_data"
    }
   ],
   "source": [
    "# set spatial geometry for all stops \n",
    "loaded_feeds.stops['geometry'] = loaded_feeds.stops.apply(\n",
    "    lambda row: Point(row['stop_lon'], row['stop_lat']), axis=1)\n",
    "all_stops_gdf = gpd.GeoDataFrame(loaded_feeds.stops)\n",
    "\n",
    "# plot the stops\n",
    "fig, ax = plt.subplots(figsize=(10, 10))\n",
    "ax = all_stops_gdf.plot(ax=ax, color='green', marker='+', markersize=5, alpha=0.6)\n",
    "ax = stop_30_mins_final.plot(ax=ax, color='red', marker='o', markersize=5, alpha=0.5)\n",
    "ax = shape_proj.plot(ax=ax, color='none', edgecolor='blue')\n",
    "\n",
    "#ax.set_axis_off()\n",
    "\n",
    "plt.show()"
   ]
  },
  {
   "cell_type": "code",
   "execution_count": null,
   "metadata": {},
   "outputs": [],
   "source": []
  }
 ],
 "metadata": {
  "kernelspec": {
   "display_name": "Python 3",
   "language": "python",
   "name": "python3"
  },
  "language_info": {
   "codemirror_mode": {
    "name": "ipython",
    "version": 3
   },
   "file_extension": ".py",
   "mimetype": "text/x-python",
   "name": "python",
   "nbconvert_exporter": "python",
   "pygments_lexer": "ipython3",
   "version": "3.7.6"
  }
 },
 "nbformat": 4,
 "nbformat_minor": 4
}
