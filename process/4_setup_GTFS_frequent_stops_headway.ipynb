{
 "cells": [
  {
   "cell_type": "markdown",
   "metadata": {},
   "source": [
    "# Create frequent public transport stops analysis\n"
   ]
  },
  {
   "cell_type": "markdown",
   "metadata": {},
   "source": [
    "This notebook describes a process to retain public transit stops points with frequent services\n",
    "\n",
    "### Method: Stop headway analysis using average frequencies of departure during day time\n",
    "\n",
    "- group by service date, then count the frequencies of departure for each stop\n",
    "- calculate the average headway during daytime over departure for normal weekdays\n",
    "- approach taken by Carl Higgs (20200106) following [tidytransit](http://tidytransit.r-transit.org/articles/servicepatterns.html)\n",
    "\n"
   ]
  },
  {
   "cell_type": "markdown",
   "metadata": {},
   "source": [
    "### Notes:\n",
    "\n",
    "- Input data format, including which tables, which columns, which order and handling of nulls - you'll need to customise this for each city.  A handy guide to the format of GTFS fields is [here](https://developers.google.com/transit/gtfs/reference/#tripstxt).\n",
    "\n",
    "- GTFS feeds sourced in same season (?) and school term\n",
    "    - we have vastly different climates across our cities --- so should perhaps aim for Spring? if we chose arbitrary feeds, some in winter and some in summer, our different cities could have vastly different conditions (particularly the snowy ones)\n",
    "- Week days (Monday to Friday)\n",
    "    - Day time (7am to 7pm; as travel during day is important for different segments of community)\n",
    " \n",
    "- We may need to consider details of how headway is operationalised (ie. spot checks do the results look reasonable, and if not how do we deal with it?  this is why I took the maximum headway of the two directions as it at the time seemed a simple and reasonable approach to recognise that a stop need only be frequently serviced in one direction - which is not literally interpreted as 'direction on the road', its do with the route itself.  There may be other methods to consider.)\n",
    "\n",
    "Previous working branch using SQL:\n",
    "\n",
    "https://github.com/shiqin-liu/global-indicators/blob/phoenix/process/07_create_frequent_public_transport.ipynb  \n"
   ]
  },
  {
   "cell_type": "code",
   "execution_count": 1,
   "metadata": {},
   "outputs": [],
   "source": [
    "#For UrbanAccess installation instructions see: https://udst.github.io/urbanaccess/installation.html\n",
    "#conda install -c udst urbanaccess\n"
   ]
  },
  {
   "cell_type": "code",
   "execution_count": 34,
   "metadata": {},
   "outputs": [],
   "source": [
    "import pandas as pd\n",
    "import geopandas as gpd\n",
    "import os\n",
    "import time   \n",
    "import networkx as nx\n",
    "import osmnx as ox\n",
    "import numpy as np\n",
    "import matplotlib.pyplot as plt\n",
    "\n",
    "import calendar\n",
    "import datetime\n",
    "\n",
    "import urbanaccess as ua\n",
    "\n",
    "# module with functions to load GTFS data into dataframes\n",
    "# revise based on origional load function from UrbanAccess, take out the add agency and route type features\n",
    "import ua_load \n",
    "\n",
    "# module with functions to calculate the average headway during the timeframe over departure\n",
    "import gtfs_headway_analysis as gha\n",
    "\n",
    "from shapely.geometry import shape,Point, LineString, Polygon\n",
    "\n",
    "%matplotlib inline\n"
   ]
  },
  {
   "cell_type": "code",
   "execution_count": 30,
   "metadata": {},
   "outputs": [],
   "source": [
    "import warnings\n",
    "import matplotlib.cbook\n",
    "warnings.filterwarnings(\"ignore\",category=matplotlib.cbook.mplDeprecation)\n"
   ]
  },
  {
   "cell_type": "code",
   "execution_count": 31,
   "metadata": {},
   "outputs": [
    {
     "name": "stdout",
     "output_type": "stream",
     "text": [
      "Buffered Adelaide  :  (138.46098212857206, -35.15966609024628, 138.74830806651352, -34.71454282915053)\n",
      "Buffered Melbourne  :  (144.59067957842007, -38.21131973169178, 145.39847326519424, -37.61837232908795)\n",
      "Buffered Sydney  :  (150.6290606117829, -34.12321411958463, 151.3206735172292, -33.66275213092711)\n"
     ]
    }
   ],
   "source": [
    "# get lat lon bounding box for each study region\n",
    "# for plotting\n",
    "for layer in ['Buffered Adelaide', 'Buffered Melbourne', 'Buffered Sydney']:\n",
    "    crs = 'epsg:7845'\n",
    "    # load shapefile\n",
    "    shape = gpd.GeoDataFrame.from_file('data/Transport/Australian stops for reference/gtfs_2020_02_14_headway_au_global_indicators.gpkg', \n",
    "                  layer=layer)\n",
    "    # create buffer\n",
    "    polygon = shape['geometry'].iloc[0]\n",
    "    polygon_proj = ox.project_geometry(polygon, crs=crs, to_crs=None, to_latlong=True)\n",
    "    # get bounding box\n",
    "    bbox = polygon_proj[0].bounds\n",
    "    print(layer, ' : ', bbox)\n",
    "    \n",
    "#minx , miny , maxx , maxy"
   ]
  },
  {
   "cell_type": "code",
   "execution_count": 32,
   "metadata": {},
   "outputs": [],
   "source": [
    "# set up study region GTFS config\n",
    "GTFS = {'adelaide':{'gtfs_filename':'data/Transport/2019/gtfs_au_sa_adelaidemetro_20191004',\n",
    "                    'gtfs_provider' : 'Adelaide Metro',\n",
    "                    'gtfs_year' : '2019',\n",
    "                    # define month and day for \"representative period\" ie. not in school time\n",
    "                    'start_date_mmdd' : '20191008', \n",
    "                    'end_date_mmdd' : '20191205',\n",
    "                    # get bounding box from study region boundary shapefile\n",
    "                    # bounding box formatted as a 4 element tuple: (lng_max, lat_min, lng_min, lat_max)\n",
    "                    # you can generate a bounding box by going to http://boundingbox.klokantech.com/ and selecting the CSV format.\n",
    "                    'bbox' : (138.46098212857206, -35.15966609024628, 138.74830806651352, -34.71454282915053), \n",
    "                    # define modes for GTFS feed(s) as per agency_id codes in agency.txt below\n",
    "                    'modes' : {\n",
    "                        'bus' : {'route_types': [3],\n",
    "                                  'peak_time' : ['07:00:00', '09:00:00'], \n",
    "                                  'day_time' : ['07:00:00', '19:00:00'],\n",
    "                                  'intervals': 30,\n",
    "                                 'agency_id': None},\n",
    "                        'tram':{'route_types': [0], \n",
    "                                'peak_time' : ['07:00:00', '09:00:00'],\n",
    "                                'day_time' : ['07:00:00', '19:00:00'],\n",
    "                                'intervals': 30,\n",
    "                                'agency_id': None},\n",
    "                        'train':{'route_types': [1,2], \n",
    "                                'peak_time' : ['07:00:00', '09:00:00'],\n",
    "                                'day_time' : ['07:00:00', '19:00:00'],\n",
    "                                'intervals': 30,\n",
    "                                'agency_id': None},\n",
    "                        'ferry':{'route_types': [4], \n",
    "                                'peak_time' : ['07:00:00', '09:00:00'],\n",
    "                                'day_time' : ['07:00:00', '19:00:00'],\n",
    "                                'intervals': 30,\n",
    "                                'agency_id': None}\n",
    "                    }\n",
    "                   },\n",
    "        'melbourne':{'gtfs_filename':'data/Transport/2019/gtfs_au_vic_ptv_20191004',\n",
    "                    'gtfs_provider' : 'Public Transport Victoria',\n",
    "                    'gtfs_year' : '2019',\n",
    "                    # define month and day for \"representative period\" ie. not in school time\n",
    "                    'start_date_mmdd' : '20191008', \n",
    "                    'end_date_mmdd' : '20191205',\n",
    "                     'bbox' : (144.59067957842007, -38.21131973169178, 145.39847326519424, -37.61837232908795),\n",
    "                    # define modes for GTFS feed(s) as per agency_id codes in agency.txt below\n",
    "                    'modes' : {\n",
    "                        'bus' : {'route_types': [3],\n",
    "                                  'peak_time' : ['07:00:00', '09:00:00'], \n",
    "                                  'day_time' : ['07:00:00', '19:00:00'],\n",
    "                                  'intervals': 30,\n",
    "                                 'agency_id': [4, 6]},\n",
    "                        'tram':{'route_types': [0], \n",
    "                                'peak_time' : ['07:00:00', '09:00:00'],\n",
    "                                'day_time' : ['07:00:00', '19:00:00'],\n",
    "                                'intervals': 30,\n",
    "                                'agency_id': [3]},\n",
    "                        'train':{'route_types': [1,2], \n",
    "                                'peak_time' : ['07:00:00', '09:00:00'],\n",
    "                                'day_time' : ['07:00:00', '19:00:00'],\n",
    "                                'intervals': 30,\n",
    "                                'agency_id': [1,2]}\n",
    "\n",
    "                    }\n",
    "                   },\n",
    "        'sydney' : {'gtfs_filename':'data/Transport/2019/gtfs_au_nsw_tfnsw_complete_20190619',\n",
    "                    'gtfs_provider' : 'Transport for NSW',\n",
    "                    'gtfs_year' : '2019',\n",
    "                    # define month and day for \"representative period\" ie. not in school time\n",
    "                    'start_date_mmdd' : '20191008', \n",
    "                    'end_date_mmdd' : '20191205',\n",
    "                    'bbox' : (150.6290606117829, -34.12321411958463, 151.3206735172292, -33.66275213092711),\n",
    "                    # define modes for GTFS feed(s) as per agency_id codes in agency.txt below\n",
    "                    'modes' : {\n",
    "                        'bus' : {'route_types': [700,712,714],\n",
    "                                  'peak_time' : ['07:00:00', '09:00:00'], \n",
    "                                  'day_time' : ['07:00:00', '19:00:00'],\n",
    "                                  'intervals': 30,\n",
    "                                 'agency_id': None},\n",
    "                        'tram':{'route_types': [0], \n",
    "                                'peak_time' : ['07:00:00', '09:00:00'],\n",
    "                                'day_time' : ['07:00:00', '19:00:00'],\n",
    "                                'intervals': 30,\n",
    "                                'agency_id': None},\n",
    "                        'train':{'route_types': [2,401], \n",
    "                                'peak_time' : ['07:00:00', '09:00:00'],\n",
    "                                'day_time' : ['07:00:00', '19:00:00'],\n",
    "                                'intervals': 30,\n",
    "                                'agency_id': None},\n",
    "\n",
    "                        'ferry':{'route_types': [4], \n",
    "                                'peak_time' : ['07:00:00', '09:00:00'],\n",
    "                                'day_time' : ['07:00:00', '19:00:00'],\n",
    "                                'intervals': 30,\n",
    "                                'agency_id': None}\n",
    "                    }\n",
    "                   }\n",
    "       }\n",
    "                    \n",
    "\n"
   ]
  },
  {
   "cell_type": "code",
   "execution_count": 33,
   "metadata": {},
   "outputs": [],
   "source": [
    "# set up a study region config to run in this notebook\n",
    "city = 'adelaide'\n",
    "\n",
    "gtfsfeed_path = GTFS['{}'.format(city)]['gtfs_filename']\n",
    "start_date=GTFS['{}'.format(city)]['start_date_mmdd']\n",
    "end_date=GTFS['{}'.format(city)]['end_date_mmdd']\n",
    "\n",
    "peak_hour = GTFS['{}'.format(city)]['modes']['bus']['day_time']\n",
    "start_hour = peak_hour[0]\n",
    "end_hour = peak_hour[1]\n",
    "\n",
    "headway_intervals = GTFS['{}'.format(city)]['modes']['bus']['intervals']\n",
    "route_types = GTFS['{}'.format(city)]['modes']['bus']['route_types']\n",
    "agency_ids = GTFS['{}'.format(city)]['modes']['bus']['agency_id']\n",
    "\n",
    "shape_layer_name = 'Buffered Adelaide'\n"
   ]
  },
  {
   "cell_type": "markdown",
   "metadata": {},
   "source": [
    "# Load GTFS data into an UrbanAccess transit data frame"
   ]
  },
  {
   "cell_type": "markdown",
   "metadata": {},
   "source": [
    "### Using UrbanAccess as source for:\n",
    "- The settings object\n",
    "- The feeds object and searching for GTFS feeds\n",
    "- Downloading GTFS data\n",
    "- Loading GTFS data into a UrbanAccess transit data object\n",
    "- conduct heaway analysis using maxi interdeparture time method\n"
   ]
  },
  {
   "cell_type": "code",
   "execution_count": 13,
   "metadata": {},
   "outputs": [
    {
     "name": "stdout",
     "output_type": "stream",
     "text": [
      "--------------------------------\n",
      "GTFS text file header whitespace check completed. Took 5.09 seconds\n",
      "--------------------------------\n",
      "Processing GTFS feed: gtfs_au_sa_adelaidemetro_20191004\n",
      "Successfully converted ['departure_time'] to seconds past midnight and appended new columns to stop_times. Took 3.63 seconds\n",
      "1 GTFS feed file(s) successfully read as dataframes:\n",
      "     gtfs_au_sa_adelaidemetro_20191004\n",
      "     Took 15.70 seconds\n"
     ]
    }
   ],
   "source": [
    "# revise based on origional function from UrbanAccess, take out the add agency and route type features\n",
    "loaded_feeds = ua_load.gtfsfeed_to_df(gtfsfeed_path=gtfsfeed_path)"
   ]
  },
  {
   "cell_type": "markdown",
   "metadata": {},
   "source": [
    "### The transit data object"
   ]
  },
  {
   "cell_type": "markdown",
   "metadata": {},
   "source": [
    "The output is a global `urbanaccess_gtfs_df` object that can be accessed with the specified variable `loaded_feeds`. This object holds all the individual GTFS feed files aggregated together with each GTFS feed file type in separate Pandas DataFrames to represent all the loaded transit feeds in a metropolitan area. "
   ]
  },
  {
   "cell_type": "markdown",
   "metadata": {},
   "source": [
    "Quickly view the transit stop locations"
   ]
  },
  {
   "cell_type": "code",
   "execution_count": 10,
   "metadata": {},
   "outputs": [],
   "source": [
    "#loaded_feeds.stops.plot(kind='scatter', x='stop_lon', y='stop_lat', s=0.1)\n"
   ]
  },
  {
   "cell_type": "markdown",
   "metadata": {},
   "source": [
    "# Calculate stop level headways\n"
   ]
  },
  {
   "cell_type": "code",
   "execution_count": 11,
   "metadata": {},
   "outputs": [
    {
     "data": {
      "text/plain": [
       "\"hold this condition \\n#select daytime bus service\\nloaded_feeds.stop_times = loaded_feeds.stop_times.sort_values(['trip_id', 'stop_sequence'])\\nloaded_feeds.stop_times = loaded_feeds.stop_times[(loaded_feeds.stop_times['departure_time'] >= '07:00:00') \\n                                                  & (loaded_feeds.stop_times['departure_time'] <= '19:00:00')]\\n\\n# select stops with ealiest service before 7:30am, and lastest stop before 18:30pm. groupby stop id\\nstop_first_peak_service_bus = (loaded_feeds.stop_times.groupby(loaded_feeds.stop_times.stop_id).departure_time.min() <= '07:30:00')\\nstop_last_peak_service_bus = (loaded_feeds.stop_times.groupby(loaded_feeds.stop_times.stop_id).departure_time.max() >= '18:30:00')\\n\\n\\nloaded_feeds.stop_times = loaded_feeds.stop_times.set_index('stop_id') #set stop_id as index columns\\nloaded_feeds.stop_times = loaded_feeds.stop_times[(stop_first_peak_service_bus) & (stop_last_peak_service_bus)].reset_index()\\n\""
      ]
     },
     "execution_count": 11,
     "metadata": {},
     "output_type": "execute_result"
    }
   ],
   "source": [
    "\"\"\"hold this condition \n",
    "#select daytime bus service\n",
    "loaded_feeds.stop_times = loaded_feeds.stop_times.sort_values(['trip_id', 'stop_sequence'])\n",
    "loaded_feeds.stop_times = loaded_feeds.stop_times[(loaded_feeds.stop_times['departure_time'] >= '07:00:00') \n",
    "                                                  & (loaded_feeds.stop_times['departure_time'] <= '19:00:00')]\n",
    "\n",
    "# select stops with ealiest service before 7:30am, and lastest stop before 18:30pm. groupby stop id\n",
    "stop_first_peak_service_bus = (loaded_feeds.stop_times.groupby(loaded_feeds.stop_times.stop_id).departure_time.min() <= '07:30:00')\n",
    "stop_last_peak_service_bus = (loaded_feeds.stop_times.groupby(loaded_feeds.stop_times.stop_id).departure_time.max() >= '18:30:00')\n",
    "\n",
    "\n",
    "loaded_feeds.stop_times = loaded_feeds.stop_times.set_index('stop_id') #set stop_id as index columns\n",
    "loaded_feeds.stop_times = loaded_feeds.stop_times[(stop_first_peak_service_bus) & (stop_last_peak_service_bus)].reset_index()\n",
    "\"\"\""
   ]
  },
  {
   "cell_type": "markdown",
   "metadata": {},
   "source": [
    "# Stop headway analysis using average departure time during normal weekday daytime\n",
    "\n",
    "- Identify feeds start and end dates that that a stop is a 30-minute frequency stop  \n",
    "- group by service date, then count the frequencies of departure for each stop\n",
    "- calculate the average headway during the timeframe over departure\n",
    "- approach taken by Carl Higgs (20200106) following [tidytransit](http://tidytransit.r-transit.org/articles/servicepatterns.html)"
   ]
  },
  {
   "cell_type": "code",
   "execution_count": 18,
   "metadata": {},
   "outputs": [
    {
     "name": "stderr",
     "output_type": "stream",
     "text": [
      "/home/jovyan/work/process/gtfs_headway_analysis.py:214: UserWarning: Boolean Series key will be reindexed to match DataFrame index.\n",
      "  & (date_service_df['date'] <= end_date_mmdd)].drop_duplicates()\n"
     ]
    }
   ],
   "source": [
    "stops_headway = gha.get_hlc_stop_frequency(loaded_feeds, start_hour, end_hour, start_date, \n",
    "                           end_date, route_types, agency_ids, \n",
    "                           dow=['monday','tuesday','wednesday','thursday','friday'])"
   ]
  },
  {
   "cell_type": "code",
   "execution_count": 19,
   "metadata": {},
   "outputs": [],
   "source": [
    "# select average departure headway less than or equal to maxi headway frequency intervals\n",
    "stop_30_mins_headway = stops_headway[stops_headway['headway'] <= 20]\n",
    "\n",
    "# get spatial features for freqent stops\n",
    "stop_30_mins_final = pd.merge(stop_30_mins_headway, loaded_feeds.stops, how='left', on='stop_id')\n",
    "\n",
    "# add stop id geometry\n",
    "stop_30_mins_final['geometry'] = stop_30_mins_final.apply(\n",
    "    lambda row: Point(row['stop_lon'], row['stop_lat']), axis=1)\n",
    "stop_30_mins_final = gpd.GeoDataFrame(stop_30_mins_final)"
   ]
  },
  {
   "cell_type": "code",
   "execution_count": 20,
   "metadata": {},
   "outputs": [
    {
     "data": {
      "text/plain": [
       "2653"
      ]
     },
     "execution_count": 20,
     "metadata": {},
     "output_type": "execute_result"
    }
   ],
   "source": [
    "len(stop_30_mins_final)"
   ]
  },
  {
   "cell_type": "code",
   "execution_count": 21,
   "metadata": {},
   "outputs": [
    {
     "data": {
      "text/plain": [
       "7746"
      ]
     },
     "execution_count": 21,
     "metadata": {},
     "output_type": "execute_result"
    }
   ],
   "source": [
    "len(loaded_feeds.stops.drop_duplicates(subset='stop_id'))"
   ]
  },
  {
   "cell_type": "markdown",
   "metadata": {},
   "source": [
    "# Plot bus stop and freqent bus stop"
   ]
  },
  {
   "cell_type": "code",
   "execution_count": 25,
   "metadata": {},
   "outputs": [],
   "source": [
    "# get the study region boundary gdf\n",
    "shape = gpd.GeoDataFrame.from_file('data/Transport/Australian stops for reference/gtfs_2020_02_14_headway_au_global_indicators.gpkg', \n",
    "                  layer=shape_layer_name)\n",
    "\n",
    "polygon = shape['geometry'].iloc[0]\n",
    "crs = shape.crs\n",
    "\n",
    "polygon_proj = ox.project_geometry(polygon, crs=crs, to_crs=None, to_latlong=True)\n",
    "shape_proj = gpd.GeoDataFrame(polygon_proj[0]).rename(columns={0:'geometry'})\n",
    "shape_proj = gpd.GeoDataFrame(shape_proj,  geometry='geometry')"
   ]
  },
  {
   "cell_type": "code",
   "execution_count": 26,
   "metadata": {},
   "outputs": [
    {
     "data": {
      "image/png": "[encoded data removed]",
      "text/plain": [
       "<Figure size 720x720 with 1 Axes>"
      ]
     },
     "metadata": {
      "needs_background": "light"
     },
     "output_type": "display_data"
    }
   ],
   "source": [
    "# set spatial geometry for all stops \n",
    "loaded_feeds.stops['geometry'] = loaded_feeds.stops.apply(\n",
    "    lambda row: Point(row['stop_lon'], row['stop_lat']), axis=1)\n",
    "all_stops_gdf = gpd.GeoDataFrame(loaded_feeds.stops)\n",
    "\n",
    "# plot the stops\n",
    "fig, ax = plt.subplots(figsize=(10, 10))\n",
    "ax = all_stops_gdf.plot(ax=ax, color='green', marker='+', markersize=5, alpha=0.6)\n",
    "ax = stop_30_mins_final.plot(ax=ax, color='red', marker='o', markersize=5, alpha=0.5)\n",
    "ax = shape_proj.plot(ax=ax, color='none', edgecolor='blue')\n",
    "\n",
    "#ax.set_axis_off()\n",
    "\n",
    "plt.show()"
   ]
  },
  {
   "cell_type": "code",
   "execution_count": 27,
   "metadata": {},
   "outputs": [
    {
     "data": {
      "text/plain": [
       "2484"
      ]
     },
     "execution_count": 27,
     "metadata": {},
     "output_type": "execute_result"
    }
   ],
   "source": [
    "# select stops within study region boundary\n",
    "len(stop_30_mins_final[(stop_30_mins_final.within(polygon_proj[0]))])"
   ]
  },
  {
   "cell_type": "code",
   "execution_count": 28,
   "metadata": {},
   "outputs": [
    {
     "data": {
      "text/plain": [
       "6198"
      ]
     },
     "execution_count": 28,
     "metadata": {},
     "output_type": "execute_result"
    }
   ],
   "source": [
    "# all stops within study region boundary\n",
    "len(all_stops_gdf[(all_stops_gdf.within(polygon_proj[0]))])"
   ]
  },
  {
   "cell_type": "markdown",
   "metadata": {},
   "source": [
    "# Run all cities GTFS frequent stop analysis\n",
    "TODO: move to a python script (done)"
   ]
  },
  {
   "cell_type": "code",
   "execution_count": 7,
   "metadata": {},
   "outputs": [
    {
     "name": "stdout",
     "output_type": "stream",
     "text": [
      "--------------------------------\n",
      "GTFS text file header whitespace check completed. Took 4.42 seconds\n",
      "--------------------------------\n",
      "Processing GTFS feed: gtfs_au_sa_adelaidemetro_20191004\n",
      "Successfully converted ['departure_time'] to seconds past midnight and appended new columns to stop_times. Took 3.78 seconds\n",
      "1 GTFS feed file(s) successfully read as dataframes:\n",
      "     gtfs_au_sa_adelaidemetro_20191004\n",
      "     Took 10.09 seconds\n",
      "bus\n",
      "Start to process adelaide bus analysis during day_time\n"
     ]
    },
    {
     "name": "stderr",
     "output_type": "stream",
     "text": [
      "/home/jovyan/work/process/gtfs_headway_analysis.py:214: UserWarning: Boolean Series key will be reindexed to match DataFrame index.\n",
      "  & (date_service_df['date'] <= end_date_mmdd)].drop_duplicates()\n"
     ]
    },
    {
     "name": "stdout",
     "output_type": "stream",
     "text": [
      "     Complete adelaide (Adelaide Metro) bus during day_time with 7352 stop counts in 7.972742319107056 seconds\n",
      "tram\n",
      "Start to process adelaide tram analysis during day_time\n",
      "     Complete adelaide (Adelaide Metro) tram during day_time with 62 stop counts in 0.2620275020599365 seconds\n",
      "train\n",
      "Start to process adelaide train analysis during day_time\n",
      "     Complete adelaide (Adelaide Metro) train during day_time with 173 stop counts in 0.3063797950744629 seconds\n",
      "ferry\n",
      "Start to process adelaide ferry analysis during day_time\n",
      "--------------------------------\n",
      "GTFS text file header whitespace check completed. Took 42.55 seconds\n",
      "--------------------------------\n",
      "Processing GTFS feed: gtfs_au_vic_ptv_20191004\n",
      "Successfully converted ['departure_time'] to seconds past midnight and appended new columns to stop_times. Took 25.33 seconds\n",
      "1 GTFS feed file(s) successfully read as dataframes:\n",
      "     gtfs_au_vic_ptv_20191004\n",
      "     Took 80.22 seconds\n",
      "bus\n",
      "Start to process melbourne bus analysis during day_time\n",
      "     Complete melbourne (Public Transport Victoria) bus during day_time with 24796 stop counts in 32.12534165382385 seconds\n",
      "tram\n",
      "Start to process melbourne tram analysis during day_time\n",
      "     Complete melbourne (Public Transport Victoria) tram during day_time with 1672 stop counts in 6.878382444381714 seconds\n",
      "train\n",
      "Start to process melbourne train analysis during day_time\n",
      "     Complete melbourne (Public Transport Victoria) train during day_time with 330 stop counts in 1.2581565380096436 seconds\n",
      "--------------------------------\n",
      "GTFS text file header whitespace check completed. Took 38.78 seconds\n",
      "--------------------------------\n",
      "Processing GTFS feed: gtfs_au_nsw_tfnsw_complete_20190619\n",
      "Successfully converted ['departure_time'] to seconds past midnight and appended new columns to stop_times. Took 19.49 seconds\n",
      "1 GTFS feed file(s) successfully read as dataframes:\n",
      "     gtfs_au_nsw_tfnsw_complete_20190619\n",
      "     Took 76.42 seconds\n",
      "bus\n",
      "Start to process sydney bus analysis during day_time\n",
      "     Complete sydney (Transport for NSW) bus during day_time with 42362 stop counts in 159.50009775161743 seconds\n",
      "tram\n",
      "Start to process sydney tram analysis during day_time\n",
      "     Complete sydney (Transport for NSW) tram during day_time with 54 stop counts in 6.1370813846588135 seconds\n",
      "train\n",
      "Start to process sydney train analysis during day_time\n",
      "     Complete sydney (Transport for NSW) train during day_time with 736 stop counts in 3.897129774093628 seconds\n",
      "ferry\n",
      "Start to process sydney ferry analysis during day_time\n",
      "     Complete sydney (Transport for NSW) ferry during day_time with 87 stop counts in 2.9973337650299072 seconds\n"
     ]
    }
   ],
   "source": [
    "# get the work directory\n",
    "dirname = os.path.abspath('') \n",
    "\n",
    "# geopackage path where to save processing layers\n",
    "gpkgPath_output = os.path.join(dirname, 'data/Transport', 'frequent_transit_headway_2020April_python.gpkg')\n",
    "\n",
    "\n",
    "for city in GTFS.keys():\n",
    "    #print(city)\n",
    "    city_config = GTFS['{}'.format(city)]\n",
    "    gtfsfeed_path = city_config['gtfs_filename']\n",
    "    start_date = city_config['start_date_mmdd']\n",
    "    end_date = city_config['end_date_mmdd']\n",
    "    authority = city_config['gtfs_provider']\n",
    "    hour = 'day_time'\n",
    "    \n",
    "    # load GTFS Feed\n",
    "    loaded_feeds = ua_load.gtfsfeed_to_df(gtfsfeed_path=gtfsfeed_path)\n",
    "    \n",
    "    stop_frequent = pd.DataFrame()\n",
    "    for mode in city_config['modes'].keys():\n",
    "        print(mode)\n",
    "        startTime = time.time()\n",
    "        print('Start to process {} {} analysis during {}'.format(city, mode, hour))\n",
    "\n",
    "        hour_1 = city_config['modes']['{}'.format(mode)]['{}'.format(hour)]\n",
    "        start_hour = hour_1[0]\n",
    "        end_hour = hour_1[1]\n",
    "\n",
    "        headway_intervals = city_config['modes']['{}'.format(mode)]['intervals']\n",
    "        route_types = city_config['modes']['{}'.format(mode)]['route_types']\n",
    "        agency_ids = city_config['modes']['{}'.format(mode)]['agency_id']\n",
    "\n",
    "        stops_headway = gha.get_hlc_stop_frequency(loaded_feeds, start_hour, end_hour, start_date, \n",
    "                           end_date, route_types, agency_ids, \n",
    "                           dow=['monday','tuesday','wednesday','thursday','friday'])\n",
    "\n",
    "        # select average departure headway less than or equal to maxi headway frequency intervals\n",
    "        #stop_frequent_headway = stops_headway[stops_headway['headway'] <= headway_intervals]\n",
    "\n",
    "        if len(stops_headway) > 0:\n",
    "            stop_frequent_final = pd.merge(stops_headway, loaded_feeds.stops, how='left', on='stop_id')\n",
    "            stop_frequent_final['authority'] = authority\n",
    "            stop_frequent_final['mode'] = mode\n",
    "            stop_frequent = stop_frequent.append(stop_frequent_final)\n",
    "            print('     Complete {} ({}) {} during {} with {} stop counts in {} seconds'.format(\n",
    "                city, authority, mode, hour, len(stops_headway), time.time() - startTime))\n",
    "        else:\n",
    "            continue\n",
    "\n",
    "    # get spatial features for freqent stops\n",
    "    # add stop id geometry\n",
    "    stop_frequent['geometry'] = stop_frequent.apply(\n",
    "        lambda row: Point(row['stop_lon'], row['stop_lat']), axis=1)\n",
    "    stop_frequent_gdf = gpd.GeoDataFrame(stop_frequent)\n",
    "\n",
    "\n",
    "    # save to output file\n",
    "    # save the frequent stop by study region and modes to a new layer in geopackage\n",
    "    stop_frequent_gdf.to_file(\n",
    "        gpkgPath_output,\n",
    "        layer='{}_{}min_stops_{}_{}_{}'.format(\n",
    "            city, headway_intervals, hour, start_date, end_date),\n",
    "        driver='GPKG')\n",
    "\n"
   ]
  },
  {
   "cell_type": "code",
   "execution_count": null,
   "metadata": {},
   "outputs": [],
   "source": []
  }
 ],
 "metadata": {
  "kernelspec": {
   "display_name": "Python (GlobalInd)",
   "language": "python",
   "name": "globalind"
  },
  "language_info": {
   "codemirror_mode": {
    "name": "ipython",
    "version": 3
   },
   "file_extension": ".py",
   "mimetype": "text/x-python",
   "name": "python",
   "nbconvert_exporter": "python",
   "pygments_lexer": "ipython3",
   "version": "3.6.10"
  }
 },
 "nbformat": 4,
 "nbformat_minor": 4
}
