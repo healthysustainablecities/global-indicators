{
 "cells": [
  {
   "cell_type": "markdown",
   "metadata": {},
   "source": [
    "# Visualization and data analysis of output indicators \n",
    "\n",
    "This notebook presents data visualization and analysis for output indicators from the Global indicator project.   \n",
    "    - Uses 4 sample cities, plots different indicators and compare, interpret the within-city variations and how that may or may not represent the real-world situation\n",
    "\n",
    "**Note: Refer to the [workflow documentation](https://github.com/gboeing/global-indicators/blob/master/documentation/workflow.md) for indicators tables and description**"
   ]
  },
  {
   "cell_type": "code",
   "execution_count": 1,
   "metadata": {},
   "outputs": [],
   "source": [
    "import geopandas as gpd\n",
    "import json\n",
    "import os\n",
    "import matplotlib.pyplot as plt\n",
    "import osmnx as ox\n",
    "\n",
    "%matplotlib inline"
   ]
  },
  {
   "cell_type": "code",
   "execution_count": 2,
   "metadata": {},
   "outputs": [],
   "source": [
    "image_path = './images'\n",
    "dpi = 300\n",
    "\n",
    "process_folder = '../process'\n",
    "process_config_path = '../process/configuration/cities.json'"
   ]
  },
  {
   "cell_type": "code",
   "execution_count": 3,
   "metadata": {},
   "outputs": [],
   "source": [
    "with open(process_config_path) as json_file:\n",
    "    config = json.load(json_file)\n",
    "\n",
    "output_folder = os.path.join(process_folder, config['folder'])\n",
    "input_folder = os.path.join(process_folder, config['input_folder'])\n",
    "\n",
    "# the path of \"global_indicators_hex_250m.gpkg\"\n",
    "gpkgOutput_hex250 = os.path.join(output_folder, config['output_hex_250m'])\n",
    "\n",
    "# create the path of \"global_indicators_city.gpkg\"\n",
    "gpkgOutput_cities = os.path.join(output_folder, config['global_indicators_city'])\n",
    "        "
   ]
  },
  {
   "cell_type": "code",
   "execution_count": 4,
   "metadata": {},
   "outputs": [],
   "source": [
    "cities = ['adelaide',\n",
    " 'auckland',\n",
    " 'baltimore',\n",
    " 'bangkok',\n",
    " 'barcelona',\n",
    " 'belfast',\n",
    " 'bern',\n",
    " 'chennai',\n",
    " 'mexico_city',\n",
    " 'cologne',\n",
    " 'ghent',\n",
    " 'graz',\n",
    " 'hanoi',\n",
    " 'hong_kong',\n",
    " 'lisbon',\n",
    " 'melbourne',\n",
    " 'odense',\n",
    " 'olomouc',\n",
    " 'sao_paulo',\n",
    " 'phoenix',\n",
    " 'seattle',\n",
    " 'sydney',\n",
    " 'valencia',\n",
    " 'vic']"
   ]
  },
  {
   "cell_type": "code",
   "execution_count": 5,
   "metadata": {},
   "outputs": [],
   "source": [
    "city_names = {'adelaide' : 'Adelaide',\n",
    "          'auckland' : 'Auckland',\n",
    "          'baltimore' : 'Baltimore',\n",
    "          'bangkok' : 'Bangkok',\n",
    "          'barcelona' : 'Barcelona',\n",
    "          'belfast' : 'Belfast',\n",
    "          'bern' : 'Bern',\n",
    "          'chennai' : 'Chennai',\n",
    "          'mexico_city' : 'Mexico City',\n",
    "          'cologne' : 'Cologne',\n",
    "          'ghent' : 'Ghent',\n",
    "          'graz' : 'Graz',\n",
    "          'hanoi' : 'Hanoi',\n",
    "          'hong_kong' : 'Hong Kong',\n",
    "          'lisbon' : 'Lisbon',\n",
    "          'melbourne' : 'Melbourne',\n",
    "          'odense' : 'Odense',\n",
    "          'olomouc' : 'Olomouc',\n",
    "          'sao_paulo' : 'Sau Paulo',\n",
    "          'phoenix' : 'Phoenix',\n",
    "          'seattle' : 'Seattle',\n",
    "          'sydney' : 'Sydney',\n",
    "          'valencia' : 'Valencia',\n",
    "          'vic' : 'Vic'}"
   ]
  },
  {
   "cell_type": "code",
   "execution_count": 6,
   "metadata": {},
   "outputs": [],
   "source": [
    "cols=['all_cities_walkability', \n",
    "          'pct_access_500m_public_open_space_any_binary',\n",
    "          'pct_access_500m_public_open_space_large_binary',\n",
    "          'pct_access_500m_pt_gtfs_any_binary',\n",
    "          'pct_access_500m_pt_gtfs_freq_20_binary',\n",
    "          'pct_access_500m_pt_gtfs_freq_30_binary']\n"
   ]
  },
  {
   "cell_type": "code",
   "execution_count": 7,
   "metadata": {},
   "outputs": [],
   "source": [
    "variable_names={'all_cities_walkability' : 'Within-City Walkability Index', \n",
    "                'pct_access_500m_public_open_space_any_binary' : 'Access to Any Public Open Space',\n",
    "                'pct_access_500m_public_open_space_large_binary' : 'Access to Large Public Open Space',\n",
    "                'pct_access_500m_pt_gtfs_any_binary' : 'Access to Any Transit',\n",
    "                'pct_access_500m_pt_gtfs_freq_20_binary' : 'Access to Transit at 20 Minute Frequency',\n",
    "                'pct_access_500m_pt_gtfs_freq_30_binary' : 'Access to Transit at 30 Minute Frequency'}"
   ]
  },
  {
   "cell_type": "code",
   "execution_count": 8,
   "metadata": {},
   "outputs": [
    {
     "name": "stdout",
     "output_type": "stream",
     "text": [
      "Within-City Walkability Index\n",
      "Access to Any Public Open Space\n",
      "Access to Large Public Open Space\n",
      "Access to Any Transit\n",
      "Access to Transit at 20 Minute Frequency\n",
      "Access to Transit at 30 Minute Frequency\n"
     ]
    }
   ],
   "source": [
    "for col in cols:\n",
    "    #city_name = city\n",
    "    #city_name = 'hong_kong'\n",
    "    print(variable_names[col])"
   ]
  },
  {
   "cell_type": "markdown",
   "metadata": {},
   "source": [
    "### Plot Example Cities"
   ]
  },
  {
   "cell_type": "code",
   "execution_count": 9,
   "metadata": {},
   "outputs": [],
   "source": [
    "scheme = 'NaturalBreaks'\n",
    "k = 5\n",
    "cmap = 'plasma'\n",
    "edgecolor = 'none'\n",
    "city_color = 'none'\n",
    "city_edge = 'w'\n",
    "city_edge_lw = 0.2\n",
    "title_y = 1.02\n",
    "title_fontsize = 16\n",
    "title_weight = 'bold'\n",
    "\n",
    "fontcolor = 'w'\n",
    "params = {\"text.color\" : fontcolor,\n",
    "          \"ytick.color\" : fontcolor,\n",
    "          \"xtick.color\" : fontcolor}\n",
    "plt.rcParams.update(params)"
   ]
  },
  {
   "cell_type": "code",
   "execution_count": 10,
   "metadata": {},
   "outputs": [],
   "source": [
    "def plot_within(gpkgOutput_hex250, gpkgOutput_cities, filepath, figsize=(14, 8), facecolor=\"k\", nrows=2, ncols=3, projected=True):\n",
    "\n",
    "    cols=['all_cities_walkability', \n",
    "          'pct_access_500m_public_open_space_any_binary',\n",
    "          'pct_access_500m_public_open_space_large_binary',\n",
    "          'pct_access_500m_pt_gtfs_any_binary',\n",
    "          'pct_access_500m_pt_gtfs_freq_20_binary',\n",
    "          'pct_access_500m_pt_gtfs_freq_30_binary']\n",
    "\n",
    "    fig, axes = plt.subplots(figsize=figsize, facecolor=facecolor, nrows=nrows, ncols=ncols,)\n",
    "\n",
    "    for ax, col in zip(axes.flatten(), cols):\n",
    "        # the path of \"global_indicators_hex_250m.gpkg\"\n",
    "        gpkgOutput_hex250 = os.path.join(output_folder, config['output_hex_250m'])\n",
    "\n",
    "        # create the path of \"global_indicators_city.gpkg\"\n",
    "        gpkgOutput_cities = os.path.join(output_folder, config['global_indicators_city'])\n",
    "        \n",
    "        # from filepaths, extract city-level data\n",
    "        hex250 = gpd.read_file(gpkgOutput_hex250, layer=city)\n",
    "        city_bound = gpd.read_file(gpkgOutput_cities, layer=city)\n",
    "        \n",
    "        # plot hexplot and city boundaries\n",
    "        _ = hex250.plot(ax=ax, column=col, scheme=scheme, k=k, cmap=cmap, edgecolor=edgecolor,\n",
    "                        label=city, legend=False, legend_kwds=None)\n",
    "        _ = city_bound.plot(ax=ax, color=city_color, edgecolor=city_edge, linewidth=city_edge_lw)\n",
    "\n",
    "        # add titles\n",
    "        fig.suptitle(f\"{city_names[city]} Within-city Indicators\", color=fontcolor, fontsize=20, weight='bold')\n",
    "        ax.set_title(variable_names[col], color=fontcolor, fontsize=10)\n",
    "        ax.set_axis_off()\n",
    "\n",
    "        # save to disk\n",
    "        save_path = os.path.join(image_path, f\"{city}-within-maps.png\")\n",
    "        fig.savefig(save_path, dpi=dpi, bbox_inches='tight', facecolor=fig.get_facecolor())\n",
    "        plt.close()\n",
    "        \n",
    "        print(ox.ts(), f'figures saved to disk at \"{filepath}\"')\n",
    "\n",
    "    return fig, axes"
   ]
  },
  {
   "cell_type": "code",
   "execution_count": 11,
   "metadata": {},
   "outputs": [
    {
     "name": "stdout",
     "output_type": "stream",
     "text": [
      "2020-11-02 08:28:10 begin mapping adelaide\n"
     ]
    },
    {
     "ename": "DriverError",
     "evalue": "../process/data/output/global_indicators_hex_250m.gpkg: No such file or directory",
     "output_type": "error",
     "traceback": [
      "\u001b[0;31m---------------------------------------------------------------------------\u001b[0m",
      "\u001b[0;31mCPLE_OpenFailedError\u001b[0m                      Traceback (most recent call last)",
      "\u001b[0;32mfiona/_shim.pyx\u001b[0m in \u001b[0;36mfiona._shim.gdal_open_vector\u001b[0;34m()\u001b[0m\n",
      "\u001b[0;32mfiona/_err.pyx\u001b[0m in \u001b[0;36mfiona._err.exc_wrap_pointer\u001b[0;34m()\u001b[0m\n",
      "\u001b[0;31mCPLE_OpenFailedError\u001b[0m: ../process/data/output/global_indicators_hex_250m.gpkg: No such file or directory",
      "\nDuring handling of the above exception, another exception occurred:\n",
      "\u001b[0;31mDriverError\u001b[0m                               Traceback (most recent call last)",
      "\u001b[0;32m<ipython-input-11-79c7acc84dff>\u001b[0m in \u001b[0;36m<module>\u001b[0;34m\u001b[0m\n\u001b[1;32m      2\u001b[0m     \u001b[0mprint\u001b[0m\u001b[0;34m(\u001b[0m\u001b[0mox\u001b[0m\u001b[0;34m.\u001b[0m\u001b[0mts\u001b[0m\u001b[0;34m(\u001b[0m\u001b[0;34m)\u001b[0m\u001b[0;34m,\u001b[0m \u001b[0;34mf\"begin mapping {city}\"\u001b[0m\u001b[0;34m)\u001b[0m\u001b[0;34m\u001b[0m\u001b[0;34m\u001b[0m\u001b[0m\n\u001b[1;32m      3\u001b[0m     \u001b[0mfp\u001b[0m \u001b[0;34m=\u001b[0m \u001b[0mimage_path\u001b[0m\u001b[0;34m.\u001b[0m\u001b[0mformat\u001b[0m\u001b[0;34m(\u001b[0m\u001b[0mcity\u001b[0m\u001b[0;34m=\u001b[0m\u001b[0mcity\u001b[0m\u001b[0;34m)\u001b[0m\u001b[0;34m\u001b[0m\u001b[0;34m\u001b[0m\u001b[0m\n\u001b[0;32m----> 4\u001b[0;31m     \u001b[0mfig\u001b[0m\u001b[0;34m,\u001b[0m \u001b[0maxes\u001b[0m \u001b[0;34m=\u001b[0m \u001b[0mplot_within\u001b[0m\u001b[0;34m(\u001b[0m\u001b[0mgpkgOutput_hex250\u001b[0m\u001b[0;34m,\u001b[0m \u001b[0mgpkgOutput_cities\u001b[0m\u001b[0;34m,\u001b[0m \u001b[0mfp\u001b[0m\u001b[0;34m)\u001b[0m\u001b[0;34m\u001b[0m\u001b[0;34m\u001b[0m\u001b[0m\n\u001b[0m\u001b[1;32m      5\u001b[0m \u001b[0;34m\u001b[0m\u001b[0m\n\u001b[1;32m      6\u001b[0m \u001b[0mprint\u001b[0m\u001b[0;34m(\u001b[0m\u001b[0mox\u001b[0m\u001b[0;34m.\u001b[0m\u001b[0mts\u001b[0m\u001b[0;34m(\u001b[0m\u001b[0;34m)\u001b[0m\u001b[0;34m,\u001b[0m \u001b[0;34mf'all done, saved figures\"'\u001b[0m\u001b[0;34m)\u001b[0m\u001b[0;34m\u001b[0m\u001b[0;34m\u001b[0m\u001b[0m\n",
      "\u001b[0;32m<ipython-input-10-96158ba71d9c>\u001b[0m in \u001b[0;36mplot_within\u001b[0;34m(gpkgOutput_hex250, gpkgOutput_cities, filepath, figsize, facecolor, nrows, ncols, projected)\u001b[0m\n\u001b[1;32m     18\u001b[0m \u001b[0;34m\u001b[0m\u001b[0m\n\u001b[1;32m     19\u001b[0m         \u001b[0;31m# from filepaths, extract city-level data\u001b[0m\u001b[0;34m\u001b[0m\u001b[0;34m\u001b[0m\u001b[0;34m\u001b[0m\u001b[0m\n\u001b[0;32m---> 20\u001b[0;31m         \u001b[0mhex250\u001b[0m \u001b[0;34m=\u001b[0m \u001b[0mgpd\u001b[0m\u001b[0;34m.\u001b[0m\u001b[0mread_file\u001b[0m\u001b[0;34m(\u001b[0m\u001b[0mgpkgOutput_hex250\u001b[0m\u001b[0;34m,\u001b[0m \u001b[0mlayer\u001b[0m\u001b[0;34m=\u001b[0m\u001b[0mcity\u001b[0m\u001b[0;34m)\u001b[0m\u001b[0;34m\u001b[0m\u001b[0;34m\u001b[0m\u001b[0m\n\u001b[0m\u001b[1;32m     21\u001b[0m         \u001b[0mcity_bound\u001b[0m \u001b[0;34m=\u001b[0m \u001b[0mgpd\u001b[0m\u001b[0;34m.\u001b[0m\u001b[0mread_file\u001b[0m\u001b[0;34m(\u001b[0m\u001b[0mgpkgOutput_cities\u001b[0m\u001b[0;34m,\u001b[0m \u001b[0mlayer\u001b[0m\u001b[0;34m=\u001b[0m\u001b[0mcity\u001b[0m\u001b[0;34m)\u001b[0m\u001b[0;34m\u001b[0m\u001b[0;34m\u001b[0m\u001b[0m\n\u001b[1;32m     22\u001b[0m \u001b[0;34m\u001b[0m\u001b[0m\n",
      "\u001b[0;32m/opt/conda/lib/python3.7/site-packages/geopandas/io/file.py\u001b[0m in \u001b[0;36mread_file\u001b[0;34m(filename, bbox, mask, rows, **kwargs)\u001b[0m\n\u001b[1;32m     87\u001b[0m \u001b[0;34m\u001b[0m\u001b[0m\n\u001b[1;32m     88\u001b[0m     \u001b[0;32mwith\u001b[0m \u001b[0mfiona_env\u001b[0m\u001b[0;34m(\u001b[0m\u001b[0;34m)\u001b[0m\u001b[0;34m:\u001b[0m\u001b[0;34m\u001b[0m\u001b[0;34m\u001b[0m\u001b[0m\n\u001b[0;32m---> 89\u001b[0;31m         \u001b[0;32mwith\u001b[0m \u001b[0mreader\u001b[0m\u001b[0;34m(\u001b[0m\u001b[0mpath_or_bytes\u001b[0m\u001b[0;34m,\u001b[0m \u001b[0;34m**\u001b[0m\u001b[0mkwargs\u001b[0m\u001b[0;34m)\u001b[0m \u001b[0;32mas\u001b[0m \u001b[0mfeatures\u001b[0m\u001b[0;34m:\u001b[0m\u001b[0;34m\u001b[0m\u001b[0;34m\u001b[0m\u001b[0m\n\u001b[0m\u001b[1;32m     90\u001b[0m \u001b[0;34m\u001b[0m\u001b[0m\n\u001b[1;32m     91\u001b[0m             \u001b[0;31m# In a future Fiona release the crs attribute of features will\u001b[0m\u001b[0;34m\u001b[0m\u001b[0;34m\u001b[0m\u001b[0;34m\u001b[0m\u001b[0m\n",
      "\u001b[0;32m/opt/conda/lib/python3.7/site-packages/fiona/env.py\u001b[0m in \u001b[0;36mwrapper\u001b[0;34m(*args, **kwargs)\u001b[0m\n\u001b[1;32m    396\u001b[0m     \u001b[0;32mdef\u001b[0m \u001b[0mwrapper\u001b[0m\u001b[0;34m(\u001b[0m\u001b[0;34m*\u001b[0m\u001b[0margs\u001b[0m\u001b[0;34m,\u001b[0m \u001b[0;34m**\u001b[0m\u001b[0mkwargs\u001b[0m\u001b[0;34m)\u001b[0m\u001b[0;34m:\u001b[0m\u001b[0;34m\u001b[0m\u001b[0;34m\u001b[0m\u001b[0m\n\u001b[1;32m    397\u001b[0m         \u001b[0;32mif\u001b[0m \u001b[0mlocal\u001b[0m\u001b[0;34m.\u001b[0m\u001b[0m_env\u001b[0m\u001b[0;34m:\u001b[0m\u001b[0;34m\u001b[0m\u001b[0;34m\u001b[0m\u001b[0m\n\u001b[0;32m--> 398\u001b[0;31m             \u001b[0;32mreturn\u001b[0m \u001b[0mf\u001b[0m\u001b[0;34m(\u001b[0m\u001b[0;34m*\u001b[0m\u001b[0margs\u001b[0m\u001b[0;34m,\u001b[0m \u001b[0;34m**\u001b[0m\u001b[0mkwargs\u001b[0m\u001b[0;34m)\u001b[0m\u001b[0;34m\u001b[0m\u001b[0;34m\u001b[0m\u001b[0m\n\u001b[0m\u001b[1;32m    399\u001b[0m         \u001b[0;32melse\u001b[0m\u001b[0;34m:\u001b[0m\u001b[0;34m\u001b[0m\u001b[0;34m\u001b[0m\u001b[0m\n\u001b[1;32m    400\u001b[0m             \u001b[0;32mif\u001b[0m \u001b[0misinstance\u001b[0m\u001b[0;34m(\u001b[0m\u001b[0margs\u001b[0m\u001b[0;34m[\u001b[0m\u001b[0;36m0\u001b[0m\u001b[0;34m]\u001b[0m\u001b[0;34m,\u001b[0m \u001b[0mstr\u001b[0m\u001b[0;34m)\u001b[0m\u001b[0;34m:\u001b[0m\u001b[0;34m\u001b[0m\u001b[0;34m\u001b[0m\u001b[0m\n",
      "\u001b[0;32m/opt/conda/lib/python3.7/site-packages/fiona/__init__.py\u001b[0m in \u001b[0;36mopen\u001b[0;34m(fp, mode, driver, schema, crs, encoding, layer, vfs, enabled_drivers, crs_wkt, **kwargs)\u001b[0m\n\u001b[1;32m    252\u001b[0m         \u001b[0;32mif\u001b[0m \u001b[0mmode\u001b[0m \u001b[0;32min\u001b[0m \u001b[0;34m(\u001b[0m\u001b[0;34m'a'\u001b[0m\u001b[0;34m,\u001b[0m \u001b[0;34m'r'\u001b[0m\u001b[0;34m)\u001b[0m\u001b[0;34m:\u001b[0m\u001b[0;34m\u001b[0m\u001b[0;34m\u001b[0m\u001b[0m\n\u001b[1;32m    253\u001b[0m             c = Collection(path, mode, driver=driver, encoding=encoding,\n\u001b[0;32m--> 254\u001b[0;31m                            layer=layer, enabled_drivers=enabled_drivers, **kwargs)\n\u001b[0m\u001b[1;32m    255\u001b[0m         \u001b[0;32melif\u001b[0m \u001b[0mmode\u001b[0m \u001b[0;34m==\u001b[0m \u001b[0;34m'w'\u001b[0m\u001b[0;34m:\u001b[0m\u001b[0;34m\u001b[0m\u001b[0;34m\u001b[0m\u001b[0m\n\u001b[1;32m    256\u001b[0m             \u001b[0;32mif\u001b[0m \u001b[0mschema\u001b[0m\u001b[0;34m:\u001b[0m\u001b[0;34m\u001b[0m\u001b[0;34m\u001b[0m\u001b[0m\n",
      "\u001b[0;32m/opt/conda/lib/python3.7/site-packages/fiona/collection.py\u001b[0m in \u001b[0;36m__init__\u001b[0;34m(self, path, mode, driver, schema, crs, encoding, layer, vsi, archive, enabled_drivers, crs_wkt, ignore_fields, ignore_geometry, **kwargs)\u001b[0m\n\u001b[1;32m    152\u001b[0m             \u001b[0;32mif\u001b[0m \u001b[0mself\u001b[0m\u001b[0;34m.\u001b[0m\u001b[0mmode\u001b[0m \u001b[0;34m==\u001b[0m \u001b[0;34m'r'\u001b[0m\u001b[0;34m:\u001b[0m\u001b[0;34m\u001b[0m\u001b[0;34m\u001b[0m\u001b[0m\n\u001b[1;32m    153\u001b[0m                 \u001b[0mself\u001b[0m\u001b[0;34m.\u001b[0m\u001b[0msession\u001b[0m \u001b[0;34m=\u001b[0m \u001b[0mSession\u001b[0m\u001b[0;34m(\u001b[0m\u001b[0;34m)\u001b[0m\u001b[0;34m\u001b[0m\u001b[0;34m\u001b[0m\u001b[0m\n\u001b[0;32m--> 154\u001b[0;31m                 \u001b[0mself\u001b[0m\u001b[0;34m.\u001b[0m\u001b[0msession\u001b[0m\u001b[0;34m.\u001b[0m\u001b[0mstart\u001b[0m\u001b[0;34m(\u001b[0m\u001b[0mself\u001b[0m\u001b[0;34m,\u001b[0m \u001b[0;34m**\u001b[0m\u001b[0mkwargs\u001b[0m\u001b[0;34m)\u001b[0m\u001b[0;34m\u001b[0m\u001b[0;34m\u001b[0m\u001b[0m\n\u001b[0m\u001b[1;32m    155\u001b[0m             \u001b[0;32melif\u001b[0m \u001b[0mself\u001b[0m\u001b[0;34m.\u001b[0m\u001b[0mmode\u001b[0m \u001b[0;32min\u001b[0m \u001b[0;34m(\u001b[0m\u001b[0;34m'a'\u001b[0m\u001b[0;34m,\u001b[0m \u001b[0;34m'w'\u001b[0m\u001b[0;34m)\u001b[0m\u001b[0;34m:\u001b[0m\u001b[0;34m\u001b[0m\u001b[0;34m\u001b[0m\u001b[0m\n\u001b[1;32m    156\u001b[0m                 \u001b[0mself\u001b[0m\u001b[0;34m.\u001b[0m\u001b[0msession\u001b[0m \u001b[0;34m=\u001b[0m \u001b[0mWritingSession\u001b[0m\u001b[0;34m(\u001b[0m\u001b[0;34m)\u001b[0m\u001b[0;34m\u001b[0m\u001b[0;34m\u001b[0m\u001b[0m\n",
      "\u001b[0;32mfiona/ogrext.pyx\u001b[0m in \u001b[0;36mfiona.ogrext.Session.start\u001b[0;34m()\u001b[0m\n",
      "\u001b[0;32mfiona/_shim.pyx\u001b[0m in \u001b[0;36mfiona._shim.gdal_open_vector\u001b[0;34m()\u001b[0m\n",
      "\u001b[0;31mDriverError\u001b[0m: ../process/data/output/global_indicators_hex_250m.gpkg: No such file or directory"
     ]
    },
    {
     "data": {
      "image/png": "[encoded data removed]",
      "text/plain": [
       "<Figure size 1008x576 with 6 Axes>"
      ]
     },
     "metadata": {},
     "output_type": "display_data"
    }
   ],
   "source": [
    "for city in cities:\n",
    "    print(ox.ts(), f\"begin mapping {city}\")\n",
    "    fp = image_path.format(city=city)\n",
    "    fig, axes = plot_within(gpkgOutput_hex250, gpkgOutput_cities, fp)\n",
    "\n",
    "print(ox.ts(), f'all done, saved figures\"')"
   ]
  },
  {
   "cell_type": "code",
   "execution_count": null,
   "metadata": {},
   "outputs": [],
   "source": []
  }
 ],
 "metadata": {
  "kernelspec": {
   "display_name": "Python (GlobalInd)",
   "language": "python",
   "name": "globalind"
  },
  "language_info": {
   "codemirror_mode": {
    "name": "ipython",
    "version": 3
   },
   "file_extension": ".py",
   "mimetype": "text/x-python",
   "name": "python",
   "nbconvert_exporter": "python",
   "pygments_lexer": "ipython3",
   "version": "3.7.6"
  }
 },
 "nbformat": 4,
 "nbformat_minor": 4
}
